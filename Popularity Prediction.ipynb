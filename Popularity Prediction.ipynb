{
 "cells": [
  {
   "cell_type": "markdown",
   "source": [
    "# Data Science with Python final project\n",
    "\n",
    "### Question: How popular will a new track probably be given a selected amount of attributes\n",
    "\n",
    "Why is this interesting?\n",
    "\n",
    "When you know how popular a new track will be, you can make better decisions regarding advertisment budgets, cost for the music rights etc."
   ],
   "metadata": {
    "collapsed": false
   }
  },
  {
   "cell_type": "markdown",
   "source": [
    "## Imports"
   ],
   "metadata": {
    "collapsed": false
   }
  },
  {
   "cell_type": "code",
   "execution_count": 1,
   "outputs": [],
   "source": [
    "import numpy as np\n",
    "import pandas as pd\n",
    "import seaborn as sns\n",
    "import matplotlib.pyplot as plt\n",
    "import os, glob\n",
    "import json\n",
    "import sqlite3 as sl\n",
    "from sqlalchemy import create_engine\n",
    "import mediapipe as mp\n",
    "from mediapipe.tasks import python\n",
    "from mediapipe.tasks.python import text"
   ],
   "metadata": {
    "collapsed": false
   }
  },
  {
   "cell_type": "markdown",
   "source": [
    "## Loading Data from DB to DataFrames\n",
    "\n",
    "#### Tables tracks, lyrics and features provide information about the tracks which could be useful to predict the popularity"
   ],
   "metadata": {
    "collapsed": false
   }
  },
  {
   "cell_type": "code",
   "execution_count": 2,
   "outputs": [],
   "source": [
    "engine = create_engine(\"sqlite:///spotify.db\")\n",
    "tracks_df = pd.read_sql_table(\"tracks\", engine)\n",
    "lyrics_df = pd.read_sql_table(\"lyrics\", engine)\n",
    "features_df = pd.read_sql_table(\"features\", engine)"
   ],
   "metadata": {
    "collapsed": false
   }
  },
  {
   "cell_type": "markdown",
   "source": [
    "### Check how to do the JOIN"
   ],
   "metadata": {
    "collapsed": false
   }
  },
  {
   "cell_type": "code",
   "execution_count": 3,
   "outputs": [
    {
     "name": "stdout",
     "output_type": "stream",
     "text": [
      "DataFrame tracks_df has 301508 rows.\n",
      "DataFrame lyrics_df has 183320 rows.\n",
      "DataFrame features_df has 301545 rows.\n"
     ]
    }
   ],
   "source": [
    "print(f\"DataFrame tracks_df has {tracks_df.shape[0]} rows.\")\n",
    "print(f\"DataFrame lyrics_df has {lyrics_df.shape[0]} rows.\")\n",
    "print(f\"DataFrame features_df has {features_df.shape[0]} rows.\")"
   ],
   "metadata": {
    "collapsed": false
   }
  },
  {
   "cell_type": "markdown",
   "source": [
    "tracks_df and features_df have almost the same amount of rows, but lyrics_df way less\n",
    "-> check what extra information lyrics_df provides and if we could fill the missing data for the relevant columns"
   ],
   "metadata": {
    "collapsed": false
   }
  },
  {
   "cell_type": "code",
   "execution_count": 4,
   "outputs": [
    {
     "data": {
      "text/plain": "                                    uri             title     artist language   \n0  spotify:track:6Nr3QjImPUhCpUgnykO7hm            Fly In  Lil Wayne       en  \\\n1  spotify:track:4P7VFiaZb3xrXoqGwZXC3J    Lollipop Remix  Lil Wayne       en   \n2  spotify:track:4T90fwS4tw1Qlxige4a9mK    Lollipop Remix  Lil Wayne       en   \n3  spotify:track:0s5bCEmMYwttQIZLHLwOF3    Lollipop Remix  Lil Wayne       en   \n4  spotify:track:6Y6f7LSvHxUA61ItYiSMKE  Money On My Mind  Lil Wayne       en   \n\n                                              lyrics  \n0  [Intro]\\nSo they ask me\\n\"Young boy\\nWhat you ...  \n1  [Intro: Lil Wayne]\\nHaha\\nUh-huh\\nNo homo (You...  \n2  [Intro: Lil Wayne]\\nHaha\\nUh-huh\\nNo homo (You...  \n3  [Intro: Lil Wayne]\\nHaha\\nUh-huh\\nNo homo (You...  \n4  [Intro]\\nYeah\\nMoney on my mind, money on my m...  ",
      "text/html": "<div>\n<style scoped>\n    .dataframe tbody tr th:only-of-type {\n        vertical-align: middle;\n    }\n\n    .dataframe tbody tr th {\n        vertical-align: top;\n    }\n\n    .dataframe thead th {\n        text-align: right;\n    }\n</style>\n<table border=\"1\" class=\"dataframe\">\n  <thead>\n    <tr style=\"text-align: right;\">\n      <th></th>\n      <th>uri</th>\n      <th>title</th>\n      <th>artist</th>\n      <th>language</th>\n      <th>lyrics</th>\n    </tr>\n  </thead>\n  <tbody>\n    <tr>\n      <th>0</th>\n      <td>spotify:track:6Nr3QjImPUhCpUgnykO7hm</td>\n      <td>Fly In</td>\n      <td>Lil Wayne</td>\n      <td>en</td>\n      <td>[Intro]\\nSo they ask me\\n\"Young boy\\nWhat you ...</td>\n    </tr>\n    <tr>\n      <th>1</th>\n      <td>spotify:track:4P7VFiaZb3xrXoqGwZXC3J</td>\n      <td>Lollipop Remix</td>\n      <td>Lil Wayne</td>\n      <td>en</td>\n      <td>[Intro: Lil Wayne]\\nHaha\\nUh-huh\\nNo homo (You...</td>\n    </tr>\n    <tr>\n      <th>2</th>\n      <td>spotify:track:4T90fwS4tw1Qlxige4a9mK</td>\n      <td>Lollipop Remix</td>\n      <td>Lil Wayne</td>\n      <td>en</td>\n      <td>[Intro: Lil Wayne]\\nHaha\\nUh-huh\\nNo homo (You...</td>\n    </tr>\n    <tr>\n      <th>3</th>\n      <td>spotify:track:0s5bCEmMYwttQIZLHLwOF3</td>\n      <td>Lollipop Remix</td>\n      <td>Lil Wayne</td>\n      <td>en</td>\n      <td>[Intro: Lil Wayne]\\nHaha\\nUh-huh\\nNo homo (You...</td>\n    </tr>\n    <tr>\n      <th>4</th>\n      <td>spotify:track:6Y6f7LSvHxUA61ItYiSMKE</td>\n      <td>Money On My Mind</td>\n      <td>Lil Wayne</td>\n      <td>en</td>\n      <td>[Intro]\\nYeah\\nMoney on my mind, money on my m...</td>\n    </tr>\n  </tbody>\n</table>\n</div>"
     },
     "execution_count": 4,
     "metadata": {},
     "output_type": "execute_result"
    }
   ],
   "source": [
    "lyrics_df.head()"
   ],
   "metadata": {
    "collapsed": false
   }
  },
  {
   "cell_type": "markdown",
   "source": [
    "Only relevant column is the language column, which we could fill up by what other languages the Artist has used"
   ],
   "metadata": {
    "collapsed": false
   }
  },
  {
   "cell_type": "markdown",
   "source": [
    "### -> Using OUTERJOIN"
   ],
   "metadata": {
    "collapsed": false
   }
  },
  {
   "cell_type": "code",
   "execution_count": 5,
   "outputs": [],
   "source": [
    "df = tracks_df.merge(lyrics_df, how=\"outer\", on=\"uri\")\n",
    "df = df.merge(features_df, how=\"outer\", on=\"uri\")\n",
    "df.set_index(\"uri\", inplace=True)"
   ],
   "metadata": {
    "collapsed": false
   }
  },
  {
   "cell_type": "code",
   "execution_count": 6,
   "outputs": [
    {
     "data": {
      "text/plain": "                                     type_x   \nuri                                           \nspotify:track:0ltRc18CGfqQXVoh9HmJEU  track  \\\nspotify:track:6ZOPMDgEU9gPg0gtlgTc3E  track   \nspotify:track:28Wu2b54s7TPn0o8xSteeQ  track   \nspotify:track:20wgVaEsW9ElKWEZkZYOrm  track   \nspotify:track:4AZlgqkThHYfPSstdVuy2f  track   \nspotify:track:16cCeDTKDk4MAMIjhJJMoq  track   \nspotify:track:23NWg3ow2UrMun7zRXHfce  track   \nspotify:track:0Rg6WHOKKrcpVsJeWKmbmZ  track   \nspotify:track:309TfpIu0xvJVFQuYjThq8  track   \nspotify:track:3m4krrHYZerih6rozHCCpp  track   \n\n                                                                            name   \nuri                                                                                \nspotify:track:0ltRc18CGfqQXVoh9HmJEU                         There'll Come A Day  \\\nspotify:track:6ZOPMDgEU9gPg0gtlgTc3E                                       Alive   \nspotify:track:28Wu2b54s7TPn0o8xSteeQ  Kill Em With Kindness - Felix Cartal Remix   \nspotify:track:20wgVaEsW9ElKWEZkZYOrm                                      Te Vas   \nspotify:track:4AZlgqkThHYfPSstdVuy2f                             Goin' Back Down   \nspotify:track:16cCeDTKDk4MAMIjhJJMoq                       Waiting For Your Love   \nspotify:track:23NWg3ow2UrMun7zRXHfce                               Good Together   \nspotify:track:0Rg6WHOKKrcpVsJeWKmbmZ                                  悪いことばかり学んで   \nspotify:track:309TfpIu0xvJVFQuYjThq8                                       Drunk   \nspotify:track:3m4krrHYZerih6rozHCCpp                Wetter (feat. Ericka Shevon)   \n\n                                      duration_ms_x  popularity  explicit   \nuri                                                                         \nspotify:track:0ltRc18CGfqQXVoh9HmJEU       203213.0        33.0       0.0  \\\nspotify:track:6ZOPMDgEU9gPg0gtlgTc3E       193125.0        17.0       0.0   \nspotify:track:28Wu2b54s7TPn0o8xSteeQ       196293.0         0.0       0.0   \nspotify:track:20wgVaEsW9ElKWEZkZYOrm       169346.0         0.0       0.0   \nspotify:track:4AZlgqkThHYfPSstdVuy2f       225740.0         0.0       0.0   \nspotify:track:16cCeDTKDk4MAMIjhJJMoq       248255.0        12.0       0.0   \nspotify:track:23NWg3ow2UrMun7zRXHfce       195486.0         0.0       0.0   \nspotify:track:0Rg6WHOKKrcpVsJeWKmbmZ       222533.0         5.0       0.0   \nspotify:track:309TfpIu0xvJVFQuYjThq8       176243.0         0.0       0.0   \nspotify:track:3m4krrHYZerih6rozHCCpp       256235.0         0.0       1.0   \n\n                                      is_local   \nuri                                              \nspotify:track:0ltRc18CGfqQXVoh9HmJEU       0.0  \\\nspotify:track:6ZOPMDgEU9gPg0gtlgTc3E       0.0   \nspotify:track:28Wu2b54s7TPn0o8xSteeQ       0.0   \nspotify:track:20wgVaEsW9ElKWEZkZYOrm       0.0   \nspotify:track:4AZlgqkThHYfPSstdVuy2f       0.0   \nspotify:track:16cCeDTKDk4MAMIjhJJMoq       0.0   \nspotify:track:23NWg3ow2UrMun7zRXHfce       0.0   \nspotify:track:0Rg6WHOKKrcpVsJeWKmbmZ       0.0   \nspotify:track:309TfpIu0xvJVFQuYjThq8       0.0   \nspotify:track:3m4krrHYZerih6rozHCCpp       0.0   \n\n                                                                      available_markets   \nuri                                                                                       \nspotify:track:0ltRc18CGfqQXVoh9HmJEU  AR, AU, AT, BE, BO, BR, BG, CA, CL, CO, CR, CY...  \\\nspotify:track:6ZOPMDgEU9gPg0gtlgTc3E  AR, AU, AT, BE, BO, BR, BG, CA, CL, CO, CR, CY...   \nspotify:track:28Wu2b54s7TPn0o8xSteeQ                                                      \nspotify:track:20wgVaEsW9ElKWEZkZYOrm                                                      \nspotify:track:4AZlgqkThHYfPSstdVuy2f                                                      \nspotify:track:16cCeDTKDk4MAMIjhJJMoq  AR, AU, AT, BE, BO, BR, BG, CA, CL, CO, CR, CY...   \nspotify:track:23NWg3ow2UrMun7zRXHfce                                                      \nspotify:track:0Rg6WHOKKrcpVsJeWKmbmZ                                                 JP   \nspotify:track:309TfpIu0xvJVFQuYjThq8                                                      \nspotify:track:3m4krrHYZerih6rozHCCpp                                                      \n\n                                                                            preview_url   \nuri                                                                                       \nspotify:track:0ltRc18CGfqQXVoh9HmJEU                                               None  \\\nspotify:track:6ZOPMDgEU9gPg0gtlgTc3E  https://p.scdn.co/mp3-preview/ced485344d371879...   \nspotify:track:28Wu2b54s7TPn0o8xSteeQ                                               None   \nspotify:track:20wgVaEsW9ElKWEZkZYOrm                                               None   \nspotify:track:4AZlgqkThHYfPSstdVuy2f                                               None   \nspotify:track:16cCeDTKDk4MAMIjhJJMoq  https://p.scdn.co/mp3-preview/e0d2b706435ec324...   \nspotify:track:23NWg3ow2UrMun7zRXHfce                                               None   \nspotify:track:0Rg6WHOKKrcpVsJeWKmbmZ  https://p.scdn.co/mp3-preview/12c525da8d91f462...   \nspotify:track:309TfpIu0xvJVFQuYjThq8                                               None   \nspotify:track:3m4krrHYZerih6rozHCCpp                                               None   \n\n                                      disc_number  track_number  ... energy   \nuri                                                              ...          \nspotify:track:0ltRc18CGfqQXVoh9HmJEU          1.0           5.0  ...  0.802  \\\nspotify:track:6ZOPMDgEU9gPg0gtlgTc3E          1.0           1.0  ...  0.830   \nspotify:track:28Wu2b54s7TPn0o8xSteeQ          1.0           1.0  ...  0.774   \nspotify:track:20wgVaEsW9ElKWEZkZYOrm          1.0          10.0  ...  0.527   \nspotify:track:4AZlgqkThHYfPSstdVuy2f          1.0           3.0  ...  0.877   \nspotify:track:16cCeDTKDk4MAMIjhJJMoq          1.0           1.0  ...  0.766   \nspotify:track:23NWg3ow2UrMun7zRXHfce          1.0           1.0  ...  0.623   \nspotify:track:0Rg6WHOKKrcpVsJeWKmbmZ          1.0           3.0  ...  0.879   \nspotify:track:309TfpIu0xvJVFQuYjThq8          1.0           6.0  ...  0.302   \nspotify:track:3m4krrHYZerih6rozHCCpp          1.0           6.0  ...  0.641   \n\n                                     instrumentalness   key liveness loudness   \nuri                                                                             \nspotify:track:0ltRc18CGfqQXVoh9HmJEU         0.000000   4.0   0.1930   -4.046  \\\nspotify:track:6ZOPMDgEU9gPg0gtlgTc3E         0.000000   8.0   0.1680   -4.448   \nspotify:track:28Wu2b54s7TPn0o8xSteeQ         0.000005  10.0   0.2530   -2.886   \nspotify:track:20wgVaEsW9ElKWEZkZYOrm         0.000000   5.0   0.1750   -7.995   \nspotify:track:4AZlgqkThHYfPSstdVuy2f         0.000013  10.0   0.3070   -4.924   \nspotify:track:16cCeDTKDk4MAMIjhJJMoq         0.012700   0.0   0.1080   -5.717   \nspotify:track:23NWg3ow2UrMun7zRXHfce         0.000000   1.0   0.4920   -7.006   \nspotify:track:0Rg6WHOKKrcpVsJeWKmbmZ         0.000000   9.0   0.2720   -2.850   \nspotify:track:309TfpIu0xvJVFQuYjThq8         0.000034   3.0   0.0989   -6.020   \nspotify:track:3m4krrHYZerih6rozHCCpp         0.000000   7.0   0.3920  -10.902   \n\n                                      mode  speechiness    tempo   \nuri                                                                \nspotify:track:0ltRc18CGfqQXVoh9HmJEU   1.0       0.0411  159.017  \\\nspotify:track:6ZOPMDgEU9gPg0gtlgTc3E   0.0       0.0837  127.901   \nspotify:track:28Wu2b54s7TPn0o8xSteeQ   0.0       0.0365  121.970   \nspotify:track:20wgVaEsW9ElKWEZkZYOrm   0.0       0.1090   90.043   \nspotify:track:4AZlgqkThHYfPSstdVuy2f   0.0       0.1060  170.211   \nspotify:track:16cCeDTKDk4MAMIjhJJMoq   1.0       0.0341  121.061   \nspotify:track:23NWg3ow2UrMun7zRXHfce   1.0       0.1050  104.035   \nspotify:track:0Rg6WHOKKrcpVsJeWKmbmZ   0.0       0.0590   79.997   \nspotify:track:309TfpIu0xvJVFQuYjThq8   1.0       0.0304   87.827   \nspotify:track:3m4krrHYZerih6rozHCCpp   1.0       0.1300  119.968   \n\n                                      time_signature  valence  \nuri                                                            \nspotify:track:0ltRc18CGfqQXVoh9HmJEU             4.0    0.353  \nspotify:track:6ZOPMDgEU9gPg0gtlgTc3E             4.0    0.221  \nspotify:track:28Wu2b54s7TPn0o8xSteeQ             4.0    0.503  \nspotify:track:20wgVaEsW9ElKWEZkZYOrm             4.0    0.492  \nspotify:track:4AZlgqkThHYfPSstdVuy2f             4.0    0.632  \nspotify:track:16cCeDTKDk4MAMIjhJJMoq             4.0    0.457  \nspotify:track:23NWg3ow2UrMun7zRXHfce             4.0    0.495  \nspotify:track:0Rg6WHOKKrcpVsJeWKmbmZ             4.0    0.708  \nspotify:track:309TfpIu0xvJVFQuYjThq8             4.0    0.238  \nspotify:track:3m4krrHYZerih6rozHCCpp             4.0    0.614  \n\n[10 rows x 28 columns]",
      "text/html": "<div>\n<style scoped>\n    .dataframe tbody tr th:only-of-type {\n        vertical-align: middle;\n    }\n\n    .dataframe tbody tr th {\n        vertical-align: top;\n    }\n\n    .dataframe thead th {\n        text-align: right;\n    }\n</style>\n<table border=\"1\" class=\"dataframe\">\n  <thead>\n    <tr style=\"text-align: right;\">\n      <th></th>\n      <th>type_x</th>\n      <th>name</th>\n      <th>duration_ms_x</th>\n      <th>popularity</th>\n      <th>explicit</th>\n      <th>is_local</th>\n      <th>available_markets</th>\n      <th>preview_url</th>\n      <th>disc_number</th>\n      <th>track_number</th>\n      <th>...</th>\n      <th>energy</th>\n      <th>instrumentalness</th>\n      <th>key</th>\n      <th>liveness</th>\n      <th>loudness</th>\n      <th>mode</th>\n      <th>speechiness</th>\n      <th>tempo</th>\n      <th>time_signature</th>\n      <th>valence</th>\n    </tr>\n    <tr>\n      <th>uri</th>\n      <th></th>\n      <th></th>\n      <th></th>\n      <th></th>\n      <th></th>\n      <th></th>\n      <th></th>\n      <th></th>\n      <th></th>\n      <th></th>\n      <th></th>\n      <th></th>\n      <th></th>\n      <th></th>\n      <th></th>\n      <th></th>\n      <th></th>\n      <th></th>\n      <th></th>\n      <th></th>\n      <th></th>\n    </tr>\n  </thead>\n  <tbody>\n    <tr>\n      <th>spotify:track:0ltRc18CGfqQXVoh9HmJEU</th>\n      <td>track</td>\n      <td>There'll Come A Day</td>\n      <td>203213.0</td>\n      <td>33.0</td>\n      <td>0.0</td>\n      <td>0.0</td>\n      <td>AR, AU, AT, BE, BO, BR, BG, CA, CL, CO, CR, CY...</td>\n      <td>None</td>\n      <td>1.0</td>\n      <td>5.0</td>\n      <td>...</td>\n      <td>0.802</td>\n      <td>0.000000</td>\n      <td>4.0</td>\n      <td>0.1930</td>\n      <td>-4.046</td>\n      <td>1.0</td>\n      <td>0.0411</td>\n      <td>159.017</td>\n      <td>4.0</td>\n      <td>0.353</td>\n    </tr>\n    <tr>\n      <th>spotify:track:6ZOPMDgEU9gPg0gtlgTc3E</th>\n      <td>track</td>\n      <td>Alive</td>\n      <td>193125.0</td>\n      <td>17.0</td>\n      <td>0.0</td>\n      <td>0.0</td>\n      <td>AR, AU, AT, BE, BO, BR, BG, CA, CL, CO, CR, CY...</td>\n      <td>https://p.scdn.co/mp3-preview/ced485344d371879...</td>\n      <td>1.0</td>\n      <td>1.0</td>\n      <td>...</td>\n      <td>0.830</td>\n      <td>0.000000</td>\n      <td>8.0</td>\n      <td>0.1680</td>\n      <td>-4.448</td>\n      <td>0.0</td>\n      <td>0.0837</td>\n      <td>127.901</td>\n      <td>4.0</td>\n      <td>0.221</td>\n    </tr>\n    <tr>\n      <th>spotify:track:28Wu2b54s7TPn0o8xSteeQ</th>\n      <td>track</td>\n      <td>Kill Em With Kindness - Felix Cartal Remix</td>\n      <td>196293.0</td>\n      <td>0.0</td>\n      <td>0.0</td>\n      <td>0.0</td>\n      <td></td>\n      <td>None</td>\n      <td>1.0</td>\n      <td>1.0</td>\n      <td>...</td>\n      <td>0.774</td>\n      <td>0.000005</td>\n      <td>10.0</td>\n      <td>0.2530</td>\n      <td>-2.886</td>\n      <td>0.0</td>\n      <td>0.0365</td>\n      <td>121.970</td>\n      <td>4.0</td>\n      <td>0.503</td>\n    </tr>\n    <tr>\n      <th>spotify:track:20wgVaEsW9ElKWEZkZYOrm</th>\n      <td>track</td>\n      <td>Te Vas</td>\n      <td>169346.0</td>\n      <td>0.0</td>\n      <td>0.0</td>\n      <td>0.0</td>\n      <td></td>\n      <td>None</td>\n      <td>1.0</td>\n      <td>10.0</td>\n      <td>...</td>\n      <td>0.527</td>\n      <td>0.000000</td>\n      <td>5.0</td>\n      <td>0.1750</td>\n      <td>-7.995</td>\n      <td>0.0</td>\n      <td>0.1090</td>\n      <td>90.043</td>\n      <td>4.0</td>\n      <td>0.492</td>\n    </tr>\n    <tr>\n      <th>spotify:track:4AZlgqkThHYfPSstdVuy2f</th>\n      <td>track</td>\n      <td>Goin' Back Down</td>\n      <td>225740.0</td>\n      <td>0.0</td>\n      <td>0.0</td>\n      <td>0.0</td>\n      <td></td>\n      <td>None</td>\n      <td>1.0</td>\n      <td>3.0</td>\n      <td>...</td>\n      <td>0.877</td>\n      <td>0.000013</td>\n      <td>10.0</td>\n      <td>0.3070</td>\n      <td>-4.924</td>\n      <td>0.0</td>\n      <td>0.1060</td>\n      <td>170.211</td>\n      <td>4.0</td>\n      <td>0.632</td>\n    </tr>\n    <tr>\n      <th>spotify:track:16cCeDTKDk4MAMIjhJJMoq</th>\n      <td>track</td>\n      <td>Waiting For Your Love</td>\n      <td>248255.0</td>\n      <td>12.0</td>\n      <td>0.0</td>\n      <td>0.0</td>\n      <td>AR, AU, AT, BE, BO, BR, BG, CA, CL, CO, CR, CY...</td>\n      <td>https://p.scdn.co/mp3-preview/e0d2b706435ec324...</td>\n      <td>1.0</td>\n      <td>1.0</td>\n      <td>...</td>\n      <td>0.766</td>\n      <td>0.012700</td>\n      <td>0.0</td>\n      <td>0.1080</td>\n      <td>-5.717</td>\n      <td>1.0</td>\n      <td>0.0341</td>\n      <td>121.061</td>\n      <td>4.0</td>\n      <td>0.457</td>\n    </tr>\n    <tr>\n      <th>spotify:track:23NWg3ow2UrMun7zRXHfce</th>\n      <td>track</td>\n      <td>Good Together</td>\n      <td>195486.0</td>\n      <td>0.0</td>\n      <td>0.0</td>\n      <td>0.0</td>\n      <td></td>\n      <td>None</td>\n      <td>1.0</td>\n      <td>1.0</td>\n      <td>...</td>\n      <td>0.623</td>\n      <td>0.000000</td>\n      <td>1.0</td>\n      <td>0.4920</td>\n      <td>-7.006</td>\n      <td>1.0</td>\n      <td>0.1050</td>\n      <td>104.035</td>\n      <td>4.0</td>\n      <td>0.495</td>\n    </tr>\n    <tr>\n      <th>spotify:track:0Rg6WHOKKrcpVsJeWKmbmZ</th>\n      <td>track</td>\n      <td>悪いことばかり学んで</td>\n      <td>222533.0</td>\n      <td>5.0</td>\n      <td>0.0</td>\n      <td>0.0</td>\n      <td>JP</td>\n      <td>https://p.scdn.co/mp3-preview/12c525da8d91f462...</td>\n      <td>1.0</td>\n      <td>3.0</td>\n      <td>...</td>\n      <td>0.879</td>\n      <td>0.000000</td>\n      <td>9.0</td>\n      <td>0.2720</td>\n      <td>-2.850</td>\n      <td>0.0</td>\n      <td>0.0590</td>\n      <td>79.997</td>\n      <td>4.0</td>\n      <td>0.708</td>\n    </tr>\n    <tr>\n      <th>spotify:track:309TfpIu0xvJVFQuYjThq8</th>\n      <td>track</td>\n      <td>Drunk</td>\n      <td>176243.0</td>\n      <td>0.0</td>\n      <td>0.0</td>\n      <td>0.0</td>\n      <td></td>\n      <td>None</td>\n      <td>1.0</td>\n      <td>6.0</td>\n      <td>...</td>\n      <td>0.302</td>\n      <td>0.000034</td>\n      <td>3.0</td>\n      <td>0.0989</td>\n      <td>-6.020</td>\n      <td>1.0</td>\n      <td>0.0304</td>\n      <td>87.827</td>\n      <td>4.0</td>\n      <td>0.238</td>\n    </tr>\n    <tr>\n      <th>spotify:track:3m4krrHYZerih6rozHCCpp</th>\n      <td>track</td>\n      <td>Wetter (feat. Ericka Shevon)</td>\n      <td>256235.0</td>\n      <td>0.0</td>\n      <td>1.0</td>\n      <td>0.0</td>\n      <td></td>\n      <td>None</td>\n      <td>1.0</td>\n      <td>6.0</td>\n      <td>...</td>\n      <td>0.641</td>\n      <td>0.000000</td>\n      <td>7.0</td>\n      <td>0.3920</td>\n      <td>-10.902</td>\n      <td>1.0</td>\n      <td>0.1300</td>\n      <td>119.968</td>\n      <td>4.0</td>\n      <td>0.614</td>\n    </tr>\n  </tbody>\n</table>\n<p>10 rows × 28 columns</p>\n</div>"
     },
     "execution_count": 6,
     "metadata": {},
     "output_type": "execute_result"
    }
   ],
   "source": [
    "df.head(10)"
   ],
   "metadata": {
    "collapsed": false
   }
  },
  {
   "cell_type": "markdown",
   "source": [
    "## Data transformation"
   ],
   "metadata": {
    "collapsed": false
   }
  },
  {
   "cell_type": "markdown",
   "source": [
    "### Deleting duplicated columns\n",
    "\n",
    "##### title and name have the same meaning\n",
    "-> check which one has more NaN values and delete it"
   ],
   "metadata": {
    "collapsed": false
   }
  },
  {
   "cell_type": "code",
   "execution_count": 7,
   "outputs": [
    {
     "name": "stdout",
     "output_type": "stream",
     "text": [
      "title has 118226 NaN values.\n",
      "name has 38 NaN values.\n"
     ]
    }
   ],
   "source": [
    "print(f\"title has {df['title'].isnull().sum()} NaN values.\")\n",
    "print(f\"name has {df['name'].isnull().sum()} NaN values.\")"
   ],
   "metadata": {
    "collapsed": false
   }
  },
  {
   "cell_type": "code",
   "execution_count": 8,
   "outputs": [],
   "source": [
    "del df[\"title\"]"
   ],
   "metadata": {
    "collapsed": false
   }
  },
  {
   "cell_type": "markdown",
   "source": [
    "### Fixing language"
   ],
   "metadata": {
    "collapsed": false
   }
  },
  {
   "cell_type": "code",
   "execution_count": 9,
   "outputs": [
    {
     "name": "stdout",
     "output_type": "stream",
     "text": [
      "40.0% of the language entries are NaN.\n"
     ]
    }
   ],
   "source": [
    "print(f\"{df['language'].isnull().sum()/df.shape[0]*100//1}% of the language entries are NaN.\")"
   ],
   "metadata": {
    "collapsed": false
   }
  },
  {
   "cell_type": "markdown",
   "source": [
    "##### Can we fill it up over the artist?"
   ],
   "metadata": {
    "collapsed": false
   }
  },
  {
   "cell_type": "code",
   "execution_count": 10,
   "outputs": [
    {
     "name": "stdout",
     "output_type": "stream",
     "text": [
      "96.0% of the rows with missing language have a missing artist value.\n"
     ]
    }
   ],
   "source": [
    "print(f'{df[df[\"language\"].isna()][\"artist\"].isnull().sum()/df[\"language\"].isnull().sum()*100//1}% of the rows with missing language have a missing artist value.')"
   ],
   "metadata": {
    "collapsed": false
   }
  },
  {
   "cell_type": "markdown",
   "source": [
    "-> No, that won't be a solution"
   ],
   "metadata": {
    "collapsed": false
   }
  },
  {
   "cell_type": "markdown",
   "source": [
    "##### Can we fill it up over the language of the language of the name?"
   ],
   "metadata": {
    "collapsed": false
   }
  },
  {
   "cell_type": "markdown",
   "source": [
    "How many and what languages do we have?"
   ],
   "metadata": {
    "collapsed": false
   }
  },
  {
   "cell_type": "code",
   "execution_count": 11,
   "outputs": [
    {
     "name": "stdout",
     "output_type": "stream",
     "text": [
      "There are 50 unique languages in the language column.\n",
      "The Languages are: (language/number of tracks in this language)\n",
      "nan: 0 en: 163995 ja: 74 pt: 909 None: 0 es: 11155 fil: 379 fr: 836 it: 338 fi: 36 de: 376 ko: 417 is: 39 tr: 123 da: 28 sv: 148 no: 19 uk: 1 hi: 56 ar: 40 ru: 32 ta: 15 he: 41 pl: 18 gl: 1 id: 15 zh: 13 nl: 22 vi: 1 el: 24 fa: 13 la: 6 ro: 6 cy: 2 af: 7 ca: 7 ur: 1 sq: 3 pa: 3 te: 2 ceb: 1 bg: 2 eo: 1 ga: 6 hr: 1 eu: 1 lt: 1 hu: 2 gd: 1 sk: 1 "
     ]
    }
   ],
   "source": [
    "languages = df[\"language\"].unique()\n",
    "print(f\"There are {languages.shape[0]} unique languages in the language column.\")\n",
    "print(\"The Languages are: (language/number of tracks in this language)\")\n",
    "for language in languages:\n",
    "    print(str(language) + \": \" + str(df[df[\"language\"] == language].shape[0]), end=\" \")"
   ],
   "metadata": {
    "collapsed": false
   }
  },
  {
   "cell_type": "markdown",
   "source": [
    "##### Building classification model to fill up the nan values in the language column"
   ],
   "metadata": {
    "collapsed": false
   }
  },
  {
   "cell_type": "code",
   "execution_count": 12,
   "outputs": [],
   "source": [
    "### TODO"
   ],
   "metadata": {
    "collapsed": false
   }
  },
  {
   "cell_type": "markdown",
   "source": [
    "##### Check if we can use a language classification model to detect the language from the name"
   ],
   "metadata": {
    "collapsed": false
   }
  },
  {
   "cell_type": "code",
   "execution_count": 14,
   "outputs": [],
   "source": [
    "base_options = python.BaseOptions(model_asset_path=\"language_detector.tflite\")\n",
    "options = text.LanguageDetectorOptions(base_options=base_options)"
   ],
   "metadata": {
    "collapsed": false
   }
  },
  {
   "cell_type": "code",
   "execution_count": 25,
   "outputs": [
    {
     "name": "stdout",
     "output_type": "stream",
     "text": [
      "Number of correct detected languages: 85.0\n",
      "Number of not detected languages: 14.0\n"
     ]
    }
   ],
   "source": [
    "with python.text.LanguageDetector.create_from_options(options) as detector:\n",
    "    number_all = df[~df[\"language\"].isnull()].shape[0]\n",
    "    number_right_detected = 0\n",
    "    number_not_detected = 0\n",
    "    for index, row in df[~df[\"language\"].isnull()].iterrows():\n",
    "        detection_result = detector.detect(str(row[\"name\"]))\n",
    "        if len(detection_result.detections) > 0 and str(row[\"language\"]) == str(detection_result.detections[0].language_code):\n",
    "            number_right_detected += 1\n",
    "        else:\n",
    "            number_not_detected += 1\n",
    "    print(f\"Number of correct detected languages: {number_right_detected/number_all*100//1}\")\n",
    "    print(f\"Number of not detected languages: {number_not_detected/number_all*100//1}\")"
   ],
   "metadata": {
    "collapsed": false
   }
  },
  {
   "cell_type": "code",
   "execution_count": null,
   "outputs": [],
   "source": [],
   "metadata": {
    "collapsed": false
   }
  }
 ],
 "metadata": {
  "kernelspec": {
   "display_name": "Python 3",
   "language": "python",
   "name": "python3"
  },
  "language_info": {
   "codemirror_mode": {
    "name": "ipython",
    "version": 2
   },
   "file_extension": ".py",
   "mimetype": "text/x-python",
   "name": "python",
   "nbconvert_exporter": "python",
   "pygments_lexer": "ipython2",
   "version": "2.7.6"
  }
 },
 "nbformat": 4,
 "nbformat_minor": 0
}
