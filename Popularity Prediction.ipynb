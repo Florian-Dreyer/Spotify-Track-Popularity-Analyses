{
 "cells": [
  {
   "cell_type": "markdown",
   "source": [
    "# Data Science with Python final project\n",
    "\n",
    "### Question: How popular will a new track probably be given a selected amount of attributes\n",
    "\n",
    "Why is this interesting?\n",
    "\n",
    "When you know how popular a new track will be, you can make better decisions regarding advertisment budgets, cost for the music rights etc."
   ],
   "metadata": {
    "collapsed": false
   }
  },
  {
   "cell_type": "markdown",
   "source": [
    "## Imports"
   ],
   "metadata": {
    "collapsed": false
   }
  },
  {
   "cell_type": "code",
   "execution_count": 114,
   "outputs": [],
   "source": [
    "import numpy as np\n",
    "import pandas as pd\n",
    "import seaborn as sns\n",
    "import matplotlib.pyplot as plt\n",
    "import os, glob\n",
    "import json\n",
    "import sqlite3 as sl\n",
    "from sqlalchemy import create_engine\n",
    "import mediapipe as mp\n",
    "from mediapipe.tasks import python\n",
    "from mediapipe.tasks.python import text\n",
    "from collections import defaultdict"
   ],
   "metadata": {
    "collapsed": false
   }
  },
  {
   "cell_type": "markdown",
   "source": [
    "# Loading Data from DB to DataFrames\n",
    "\n",
    "#### Tables tracks, lyrics and features provide information about the tracks which could be useful to predict the popularity"
   ],
   "metadata": {
    "collapsed": false
   }
  },
  {
   "cell_type": "code",
   "execution_count": 42,
   "outputs": [],
   "source": [
    "engine = create_engine(\"sqlite:///spotify.db\")\n",
    "tracks_df = pd.read_sql_table(\"tracks\", engine)\n",
    "lyrics_df = pd.read_sql_table(\"lyrics\", engine)\n",
    "features_df = pd.read_sql_table(\"features\", engine)"
   ],
   "metadata": {
    "collapsed": false
   }
  },
  {
   "cell_type": "markdown",
   "source": [
    "### Check how to do the JOIN"
   ],
   "metadata": {
    "collapsed": false
   }
  },
  {
   "cell_type": "code",
   "execution_count": 43,
   "outputs": [
    {
     "name": "stdout",
     "output_type": "stream",
     "text": [
      "DataFrame tracks_df has 301508 rows.\n",
      "DataFrame lyrics_df has 183320 rows.\n",
      "DataFrame features_df has 301545 rows.\n"
     ]
    }
   ],
   "source": [
    "print(f\"DataFrame tracks_df has {tracks_df.shape[0]} rows.\")\n",
    "print(f\"DataFrame lyrics_df has {lyrics_df.shape[0]} rows.\")\n",
    "print(f\"DataFrame features_df has {features_df.shape[0]} rows.\")"
   ],
   "metadata": {
    "collapsed": false
   }
  },
  {
   "cell_type": "markdown",
   "source": [
    "tracks_df and features_df have almost the same amount of rows, but lyrics_df way less\n",
    "-> check what extra information lyrics_df provides and if we could fill the missing data for the relevant columns"
   ],
   "metadata": {
    "collapsed": false
   }
  },
  {
   "cell_type": "code",
   "execution_count": 44,
   "outputs": [
    {
     "data": {
      "text/plain": "                                    uri             title     artist language   \n0  spotify:track:6Nr3QjImPUhCpUgnykO7hm            Fly In  Lil Wayne       en  \\\n1  spotify:track:4P7VFiaZb3xrXoqGwZXC3J    Lollipop Remix  Lil Wayne       en   \n2  spotify:track:4T90fwS4tw1Qlxige4a9mK    Lollipop Remix  Lil Wayne       en   \n3  spotify:track:0s5bCEmMYwttQIZLHLwOF3    Lollipop Remix  Lil Wayne       en   \n4  spotify:track:6Y6f7LSvHxUA61ItYiSMKE  Money On My Mind  Lil Wayne       en   \n\n                                              lyrics  \n0  [Intro]\\nSo they ask me\\n\"Young boy\\nWhat you ...  \n1  [Intro: Lil Wayne]\\nHaha\\nUh-huh\\nNo homo (You...  \n2  [Intro: Lil Wayne]\\nHaha\\nUh-huh\\nNo homo (You...  \n3  [Intro: Lil Wayne]\\nHaha\\nUh-huh\\nNo homo (You...  \n4  [Intro]\\nYeah\\nMoney on my mind, money on my m...  ",
      "text/html": "<div>\n<style scoped>\n    .dataframe tbody tr th:only-of-type {\n        vertical-align: middle;\n    }\n\n    .dataframe tbody tr th {\n        vertical-align: top;\n    }\n\n    .dataframe thead th {\n        text-align: right;\n    }\n</style>\n<table border=\"1\" class=\"dataframe\">\n  <thead>\n    <tr style=\"text-align: right;\">\n      <th></th>\n      <th>uri</th>\n      <th>title</th>\n      <th>artist</th>\n      <th>language</th>\n      <th>lyrics</th>\n    </tr>\n  </thead>\n  <tbody>\n    <tr>\n      <th>0</th>\n      <td>spotify:track:6Nr3QjImPUhCpUgnykO7hm</td>\n      <td>Fly In</td>\n      <td>Lil Wayne</td>\n      <td>en</td>\n      <td>[Intro]\\nSo they ask me\\n\"Young boy\\nWhat you ...</td>\n    </tr>\n    <tr>\n      <th>1</th>\n      <td>spotify:track:4P7VFiaZb3xrXoqGwZXC3J</td>\n      <td>Lollipop Remix</td>\n      <td>Lil Wayne</td>\n      <td>en</td>\n      <td>[Intro: Lil Wayne]\\nHaha\\nUh-huh\\nNo homo (You...</td>\n    </tr>\n    <tr>\n      <th>2</th>\n      <td>spotify:track:4T90fwS4tw1Qlxige4a9mK</td>\n      <td>Lollipop Remix</td>\n      <td>Lil Wayne</td>\n      <td>en</td>\n      <td>[Intro: Lil Wayne]\\nHaha\\nUh-huh\\nNo homo (You...</td>\n    </tr>\n    <tr>\n      <th>3</th>\n      <td>spotify:track:0s5bCEmMYwttQIZLHLwOF3</td>\n      <td>Lollipop Remix</td>\n      <td>Lil Wayne</td>\n      <td>en</td>\n      <td>[Intro: Lil Wayne]\\nHaha\\nUh-huh\\nNo homo (You...</td>\n    </tr>\n    <tr>\n      <th>4</th>\n      <td>spotify:track:6Y6f7LSvHxUA61ItYiSMKE</td>\n      <td>Money On My Mind</td>\n      <td>Lil Wayne</td>\n      <td>en</td>\n      <td>[Intro]\\nYeah\\nMoney on my mind, money on my m...</td>\n    </tr>\n  </tbody>\n</table>\n</div>"
     },
     "execution_count": 44,
     "metadata": {},
     "output_type": "execute_result"
    }
   ],
   "source": [
    "lyrics_df.head()"
   ],
   "metadata": {
    "collapsed": false
   }
  },
  {
   "cell_type": "markdown",
   "source": [
    "Only relevant column is the language column, which we could fill up by what other languages the Artist has used"
   ],
   "metadata": {
    "collapsed": false
   }
  },
  {
   "cell_type": "markdown",
   "source": [
    "### -> Using OUTERJOIN"
   ],
   "metadata": {
    "collapsed": false
   }
  },
  {
   "cell_type": "code",
   "execution_count": 57,
   "outputs": [],
   "source": [
    "df = tracks_df.merge(lyrics_df, how=\"outer\", on=\"uri\")\n",
    "df = df.merge(features_df, how=\"outer\", on=\"uri\")\n",
    "df.set_index(\"uri\", inplace=True)"
   ],
   "metadata": {
    "collapsed": false
   }
  },
  {
   "cell_type": "code",
   "execution_count": 58,
   "outputs": [
    {
     "data": {
      "text/plain": "                                     type_x   \nuri                                           \nspotify:track:0ltRc18CGfqQXVoh9HmJEU  track  \\\nspotify:track:6ZOPMDgEU9gPg0gtlgTc3E  track   \nspotify:track:28Wu2b54s7TPn0o8xSteeQ  track   \nspotify:track:20wgVaEsW9ElKWEZkZYOrm  track   \nspotify:track:4AZlgqkThHYfPSstdVuy2f  track   \nspotify:track:16cCeDTKDk4MAMIjhJJMoq  track   \nspotify:track:23NWg3ow2UrMun7zRXHfce  track   \nspotify:track:0Rg6WHOKKrcpVsJeWKmbmZ  track   \nspotify:track:309TfpIu0xvJVFQuYjThq8  track   \nspotify:track:3m4krrHYZerih6rozHCCpp  track   \n\n                                                                            name   \nuri                                                                                \nspotify:track:0ltRc18CGfqQXVoh9HmJEU                         There'll Come A Day  \\\nspotify:track:6ZOPMDgEU9gPg0gtlgTc3E                                       Alive   \nspotify:track:28Wu2b54s7TPn0o8xSteeQ  Kill Em With Kindness - Felix Cartal Remix   \nspotify:track:20wgVaEsW9ElKWEZkZYOrm                                      Te Vas   \nspotify:track:4AZlgqkThHYfPSstdVuy2f                             Goin' Back Down   \nspotify:track:16cCeDTKDk4MAMIjhJJMoq                       Waiting For Your Love   \nspotify:track:23NWg3ow2UrMun7zRXHfce                               Good Together   \nspotify:track:0Rg6WHOKKrcpVsJeWKmbmZ                                  悪いことばかり学んで   \nspotify:track:309TfpIu0xvJVFQuYjThq8                                       Drunk   \nspotify:track:3m4krrHYZerih6rozHCCpp                Wetter (feat. Ericka Shevon)   \n\n                                      duration_ms_x  popularity  explicit   \nuri                                                                         \nspotify:track:0ltRc18CGfqQXVoh9HmJEU       203213.0        33.0       0.0  \\\nspotify:track:6ZOPMDgEU9gPg0gtlgTc3E       193125.0        17.0       0.0   \nspotify:track:28Wu2b54s7TPn0o8xSteeQ       196293.0         0.0       0.0   \nspotify:track:20wgVaEsW9ElKWEZkZYOrm       169346.0         0.0       0.0   \nspotify:track:4AZlgqkThHYfPSstdVuy2f       225740.0         0.0       0.0   \nspotify:track:16cCeDTKDk4MAMIjhJJMoq       248255.0        12.0       0.0   \nspotify:track:23NWg3ow2UrMun7zRXHfce       195486.0         0.0       0.0   \nspotify:track:0Rg6WHOKKrcpVsJeWKmbmZ       222533.0         5.0       0.0   \nspotify:track:309TfpIu0xvJVFQuYjThq8       176243.0         0.0       0.0   \nspotify:track:3m4krrHYZerih6rozHCCpp       256235.0         0.0       1.0   \n\n                                      is_local   \nuri                                              \nspotify:track:0ltRc18CGfqQXVoh9HmJEU       0.0  \\\nspotify:track:6ZOPMDgEU9gPg0gtlgTc3E       0.0   \nspotify:track:28Wu2b54s7TPn0o8xSteeQ       0.0   \nspotify:track:20wgVaEsW9ElKWEZkZYOrm       0.0   \nspotify:track:4AZlgqkThHYfPSstdVuy2f       0.0   \nspotify:track:16cCeDTKDk4MAMIjhJJMoq       0.0   \nspotify:track:23NWg3ow2UrMun7zRXHfce       0.0   \nspotify:track:0Rg6WHOKKrcpVsJeWKmbmZ       0.0   \nspotify:track:309TfpIu0xvJVFQuYjThq8       0.0   \nspotify:track:3m4krrHYZerih6rozHCCpp       0.0   \n\n                                                                      available_markets   \nuri                                                                                       \nspotify:track:0ltRc18CGfqQXVoh9HmJEU  AR, AU, AT, BE, BO, BR, BG, CA, CL, CO, CR, CY...  \\\nspotify:track:6ZOPMDgEU9gPg0gtlgTc3E  AR, AU, AT, BE, BO, BR, BG, CA, CL, CO, CR, CY...   \nspotify:track:28Wu2b54s7TPn0o8xSteeQ                                                      \nspotify:track:20wgVaEsW9ElKWEZkZYOrm                                                      \nspotify:track:4AZlgqkThHYfPSstdVuy2f                                                      \nspotify:track:16cCeDTKDk4MAMIjhJJMoq  AR, AU, AT, BE, BO, BR, BG, CA, CL, CO, CR, CY...   \nspotify:track:23NWg3ow2UrMun7zRXHfce                                                      \nspotify:track:0Rg6WHOKKrcpVsJeWKmbmZ                                                 JP   \nspotify:track:309TfpIu0xvJVFQuYjThq8                                                      \nspotify:track:3m4krrHYZerih6rozHCCpp                                                      \n\n                                                                            preview_url   \nuri                                                                                       \nspotify:track:0ltRc18CGfqQXVoh9HmJEU                                               None  \\\nspotify:track:6ZOPMDgEU9gPg0gtlgTc3E  https://p.scdn.co/mp3-preview/ced485344d371879...   \nspotify:track:28Wu2b54s7TPn0o8xSteeQ                                               None   \nspotify:track:20wgVaEsW9ElKWEZkZYOrm                                               None   \nspotify:track:4AZlgqkThHYfPSstdVuy2f                                               None   \nspotify:track:16cCeDTKDk4MAMIjhJJMoq  https://p.scdn.co/mp3-preview/e0d2b706435ec324...   \nspotify:track:23NWg3ow2UrMun7zRXHfce                                               None   \nspotify:track:0Rg6WHOKKrcpVsJeWKmbmZ  https://p.scdn.co/mp3-preview/12c525da8d91f462...   \nspotify:track:309TfpIu0xvJVFQuYjThq8                                               None   \nspotify:track:3m4krrHYZerih6rozHCCpp                                               None   \n\n                                      disc_number  track_number  ... energy   \nuri                                                              ...          \nspotify:track:0ltRc18CGfqQXVoh9HmJEU          1.0           5.0  ...  0.802  \\\nspotify:track:6ZOPMDgEU9gPg0gtlgTc3E          1.0           1.0  ...  0.830   \nspotify:track:28Wu2b54s7TPn0o8xSteeQ          1.0           1.0  ...  0.774   \nspotify:track:20wgVaEsW9ElKWEZkZYOrm          1.0          10.0  ...  0.527   \nspotify:track:4AZlgqkThHYfPSstdVuy2f          1.0           3.0  ...  0.877   \nspotify:track:16cCeDTKDk4MAMIjhJJMoq          1.0           1.0  ...  0.766   \nspotify:track:23NWg3ow2UrMun7zRXHfce          1.0           1.0  ...  0.623   \nspotify:track:0Rg6WHOKKrcpVsJeWKmbmZ          1.0           3.0  ...  0.879   \nspotify:track:309TfpIu0xvJVFQuYjThq8          1.0           6.0  ...  0.302   \nspotify:track:3m4krrHYZerih6rozHCCpp          1.0           6.0  ...  0.641   \n\n                                     instrumentalness   key liveness loudness   \nuri                                                                             \nspotify:track:0ltRc18CGfqQXVoh9HmJEU         0.000000   4.0   0.1930   -4.046  \\\nspotify:track:6ZOPMDgEU9gPg0gtlgTc3E         0.000000   8.0   0.1680   -4.448   \nspotify:track:28Wu2b54s7TPn0o8xSteeQ         0.000005  10.0   0.2530   -2.886   \nspotify:track:20wgVaEsW9ElKWEZkZYOrm         0.000000   5.0   0.1750   -7.995   \nspotify:track:4AZlgqkThHYfPSstdVuy2f         0.000013  10.0   0.3070   -4.924   \nspotify:track:16cCeDTKDk4MAMIjhJJMoq         0.012700   0.0   0.1080   -5.717   \nspotify:track:23NWg3ow2UrMun7zRXHfce         0.000000   1.0   0.4920   -7.006   \nspotify:track:0Rg6WHOKKrcpVsJeWKmbmZ         0.000000   9.0   0.2720   -2.850   \nspotify:track:309TfpIu0xvJVFQuYjThq8         0.000034   3.0   0.0989   -6.020   \nspotify:track:3m4krrHYZerih6rozHCCpp         0.000000   7.0   0.3920  -10.902   \n\n                                      mode  speechiness    tempo   \nuri                                                                \nspotify:track:0ltRc18CGfqQXVoh9HmJEU   1.0       0.0411  159.017  \\\nspotify:track:6ZOPMDgEU9gPg0gtlgTc3E   0.0       0.0837  127.901   \nspotify:track:28Wu2b54s7TPn0o8xSteeQ   0.0       0.0365  121.970   \nspotify:track:20wgVaEsW9ElKWEZkZYOrm   0.0       0.1090   90.043   \nspotify:track:4AZlgqkThHYfPSstdVuy2f   0.0       0.1060  170.211   \nspotify:track:16cCeDTKDk4MAMIjhJJMoq   1.0       0.0341  121.061   \nspotify:track:23NWg3ow2UrMun7zRXHfce   1.0       0.1050  104.035   \nspotify:track:0Rg6WHOKKrcpVsJeWKmbmZ   0.0       0.0590   79.997   \nspotify:track:309TfpIu0xvJVFQuYjThq8   1.0       0.0304   87.827   \nspotify:track:3m4krrHYZerih6rozHCCpp   1.0       0.1300  119.968   \n\n                                      time_signature  valence  \nuri                                                            \nspotify:track:0ltRc18CGfqQXVoh9HmJEU             4.0    0.353  \nspotify:track:6ZOPMDgEU9gPg0gtlgTc3E             4.0    0.221  \nspotify:track:28Wu2b54s7TPn0o8xSteeQ             4.0    0.503  \nspotify:track:20wgVaEsW9ElKWEZkZYOrm             4.0    0.492  \nspotify:track:4AZlgqkThHYfPSstdVuy2f             4.0    0.632  \nspotify:track:16cCeDTKDk4MAMIjhJJMoq             4.0    0.457  \nspotify:track:23NWg3ow2UrMun7zRXHfce             4.0    0.495  \nspotify:track:0Rg6WHOKKrcpVsJeWKmbmZ             4.0    0.708  \nspotify:track:309TfpIu0xvJVFQuYjThq8             4.0    0.238  \nspotify:track:3m4krrHYZerih6rozHCCpp             4.0    0.614  \n\n[10 rows x 28 columns]",
      "text/html": "<div>\n<style scoped>\n    .dataframe tbody tr th:only-of-type {\n        vertical-align: middle;\n    }\n\n    .dataframe tbody tr th {\n        vertical-align: top;\n    }\n\n    .dataframe thead th {\n        text-align: right;\n    }\n</style>\n<table border=\"1\" class=\"dataframe\">\n  <thead>\n    <tr style=\"text-align: right;\">\n      <th></th>\n      <th>type_x</th>\n      <th>name</th>\n      <th>duration_ms_x</th>\n      <th>popularity</th>\n      <th>explicit</th>\n      <th>is_local</th>\n      <th>available_markets</th>\n      <th>preview_url</th>\n      <th>disc_number</th>\n      <th>track_number</th>\n      <th>...</th>\n      <th>energy</th>\n      <th>instrumentalness</th>\n      <th>key</th>\n      <th>liveness</th>\n      <th>loudness</th>\n      <th>mode</th>\n      <th>speechiness</th>\n      <th>tempo</th>\n      <th>time_signature</th>\n      <th>valence</th>\n    </tr>\n    <tr>\n      <th>uri</th>\n      <th></th>\n      <th></th>\n      <th></th>\n      <th></th>\n      <th></th>\n      <th></th>\n      <th></th>\n      <th></th>\n      <th></th>\n      <th></th>\n      <th></th>\n      <th></th>\n      <th></th>\n      <th></th>\n      <th></th>\n      <th></th>\n      <th></th>\n      <th></th>\n      <th></th>\n      <th></th>\n      <th></th>\n    </tr>\n  </thead>\n  <tbody>\n    <tr>\n      <th>spotify:track:0ltRc18CGfqQXVoh9HmJEU</th>\n      <td>track</td>\n      <td>There'll Come A Day</td>\n      <td>203213.0</td>\n      <td>33.0</td>\n      <td>0.0</td>\n      <td>0.0</td>\n      <td>AR, AU, AT, BE, BO, BR, BG, CA, CL, CO, CR, CY...</td>\n      <td>None</td>\n      <td>1.0</td>\n      <td>5.0</td>\n      <td>...</td>\n      <td>0.802</td>\n      <td>0.000000</td>\n      <td>4.0</td>\n      <td>0.1930</td>\n      <td>-4.046</td>\n      <td>1.0</td>\n      <td>0.0411</td>\n      <td>159.017</td>\n      <td>4.0</td>\n      <td>0.353</td>\n    </tr>\n    <tr>\n      <th>spotify:track:6ZOPMDgEU9gPg0gtlgTc3E</th>\n      <td>track</td>\n      <td>Alive</td>\n      <td>193125.0</td>\n      <td>17.0</td>\n      <td>0.0</td>\n      <td>0.0</td>\n      <td>AR, AU, AT, BE, BO, BR, BG, CA, CL, CO, CR, CY...</td>\n      <td>https://p.scdn.co/mp3-preview/ced485344d371879...</td>\n      <td>1.0</td>\n      <td>1.0</td>\n      <td>...</td>\n      <td>0.830</td>\n      <td>0.000000</td>\n      <td>8.0</td>\n      <td>0.1680</td>\n      <td>-4.448</td>\n      <td>0.0</td>\n      <td>0.0837</td>\n      <td>127.901</td>\n      <td>4.0</td>\n      <td>0.221</td>\n    </tr>\n    <tr>\n      <th>spotify:track:28Wu2b54s7TPn0o8xSteeQ</th>\n      <td>track</td>\n      <td>Kill Em With Kindness - Felix Cartal Remix</td>\n      <td>196293.0</td>\n      <td>0.0</td>\n      <td>0.0</td>\n      <td>0.0</td>\n      <td></td>\n      <td>None</td>\n      <td>1.0</td>\n      <td>1.0</td>\n      <td>...</td>\n      <td>0.774</td>\n      <td>0.000005</td>\n      <td>10.0</td>\n      <td>0.2530</td>\n      <td>-2.886</td>\n      <td>0.0</td>\n      <td>0.0365</td>\n      <td>121.970</td>\n      <td>4.0</td>\n      <td>0.503</td>\n    </tr>\n    <tr>\n      <th>spotify:track:20wgVaEsW9ElKWEZkZYOrm</th>\n      <td>track</td>\n      <td>Te Vas</td>\n      <td>169346.0</td>\n      <td>0.0</td>\n      <td>0.0</td>\n      <td>0.0</td>\n      <td></td>\n      <td>None</td>\n      <td>1.0</td>\n      <td>10.0</td>\n      <td>...</td>\n      <td>0.527</td>\n      <td>0.000000</td>\n      <td>5.0</td>\n      <td>0.1750</td>\n      <td>-7.995</td>\n      <td>0.0</td>\n      <td>0.1090</td>\n      <td>90.043</td>\n      <td>4.0</td>\n      <td>0.492</td>\n    </tr>\n    <tr>\n      <th>spotify:track:4AZlgqkThHYfPSstdVuy2f</th>\n      <td>track</td>\n      <td>Goin' Back Down</td>\n      <td>225740.0</td>\n      <td>0.0</td>\n      <td>0.0</td>\n      <td>0.0</td>\n      <td></td>\n      <td>None</td>\n      <td>1.0</td>\n      <td>3.0</td>\n      <td>...</td>\n      <td>0.877</td>\n      <td>0.000013</td>\n      <td>10.0</td>\n      <td>0.3070</td>\n      <td>-4.924</td>\n      <td>0.0</td>\n      <td>0.1060</td>\n      <td>170.211</td>\n      <td>4.0</td>\n      <td>0.632</td>\n    </tr>\n    <tr>\n      <th>spotify:track:16cCeDTKDk4MAMIjhJJMoq</th>\n      <td>track</td>\n      <td>Waiting For Your Love</td>\n      <td>248255.0</td>\n      <td>12.0</td>\n      <td>0.0</td>\n      <td>0.0</td>\n      <td>AR, AU, AT, BE, BO, BR, BG, CA, CL, CO, CR, CY...</td>\n      <td>https://p.scdn.co/mp3-preview/e0d2b706435ec324...</td>\n      <td>1.0</td>\n      <td>1.0</td>\n      <td>...</td>\n      <td>0.766</td>\n      <td>0.012700</td>\n      <td>0.0</td>\n      <td>0.1080</td>\n      <td>-5.717</td>\n      <td>1.0</td>\n      <td>0.0341</td>\n      <td>121.061</td>\n      <td>4.0</td>\n      <td>0.457</td>\n    </tr>\n    <tr>\n      <th>spotify:track:23NWg3ow2UrMun7zRXHfce</th>\n      <td>track</td>\n      <td>Good Together</td>\n      <td>195486.0</td>\n      <td>0.0</td>\n      <td>0.0</td>\n      <td>0.0</td>\n      <td></td>\n      <td>None</td>\n      <td>1.0</td>\n      <td>1.0</td>\n      <td>...</td>\n      <td>0.623</td>\n      <td>0.000000</td>\n      <td>1.0</td>\n      <td>0.4920</td>\n      <td>-7.006</td>\n      <td>1.0</td>\n      <td>0.1050</td>\n      <td>104.035</td>\n      <td>4.0</td>\n      <td>0.495</td>\n    </tr>\n    <tr>\n      <th>spotify:track:0Rg6WHOKKrcpVsJeWKmbmZ</th>\n      <td>track</td>\n      <td>悪いことばかり学んで</td>\n      <td>222533.0</td>\n      <td>5.0</td>\n      <td>0.0</td>\n      <td>0.0</td>\n      <td>JP</td>\n      <td>https://p.scdn.co/mp3-preview/12c525da8d91f462...</td>\n      <td>1.0</td>\n      <td>3.0</td>\n      <td>...</td>\n      <td>0.879</td>\n      <td>0.000000</td>\n      <td>9.0</td>\n      <td>0.2720</td>\n      <td>-2.850</td>\n      <td>0.0</td>\n      <td>0.0590</td>\n      <td>79.997</td>\n      <td>4.0</td>\n      <td>0.708</td>\n    </tr>\n    <tr>\n      <th>spotify:track:309TfpIu0xvJVFQuYjThq8</th>\n      <td>track</td>\n      <td>Drunk</td>\n      <td>176243.0</td>\n      <td>0.0</td>\n      <td>0.0</td>\n      <td>0.0</td>\n      <td></td>\n      <td>None</td>\n      <td>1.0</td>\n      <td>6.0</td>\n      <td>...</td>\n      <td>0.302</td>\n      <td>0.000034</td>\n      <td>3.0</td>\n      <td>0.0989</td>\n      <td>-6.020</td>\n      <td>1.0</td>\n      <td>0.0304</td>\n      <td>87.827</td>\n      <td>4.0</td>\n      <td>0.238</td>\n    </tr>\n    <tr>\n      <th>spotify:track:3m4krrHYZerih6rozHCCpp</th>\n      <td>track</td>\n      <td>Wetter (feat. Ericka Shevon)</td>\n      <td>256235.0</td>\n      <td>0.0</td>\n      <td>1.0</td>\n      <td>0.0</td>\n      <td></td>\n      <td>None</td>\n      <td>1.0</td>\n      <td>6.0</td>\n      <td>...</td>\n      <td>0.641</td>\n      <td>0.000000</td>\n      <td>7.0</td>\n      <td>0.3920</td>\n      <td>-10.902</td>\n      <td>1.0</td>\n      <td>0.1300</td>\n      <td>119.968</td>\n      <td>4.0</td>\n      <td>0.614</td>\n    </tr>\n  </tbody>\n</table>\n<p>10 rows × 28 columns</p>\n</div>"
     },
     "execution_count": 58,
     "metadata": {},
     "output_type": "execute_result"
    }
   ],
   "source": [
    "df.head(10)"
   ],
   "metadata": {
    "collapsed": false
   }
  },
  {
   "cell_type": "markdown",
   "source": [
    "# Data Exploration"
   ],
   "metadata": {
    "collapsed": false
   }
  },
  {
   "cell_type": "code",
   "execution_count": 59,
   "outputs": [
    {
     "data": {
      "text/plain": "       duration_ms_x     popularity       explicit  is_local    disc_number   \ncount   3.015080e+05  301508.000000  301508.000000  301508.0  301508.000000  \\\nmean    2.406148e+05      16.801889       0.122222       0.0       1.033714   \nstd     1.110043e+05      18.569157       0.327543       0.0       0.327904   \nmin     0.000000e+00       0.000000       0.000000       0.0       1.000000   \n25%     1.914660e+05       0.000000       0.000000       0.0       1.000000   \n50%     2.256335e+05      11.000000       0.000000       0.0       1.000000   \n75%     2.694268e+05      31.000000       0.000000       0.0       1.000000   \nmax     6.348017e+06      91.000000       1.000000       0.0      43.000000   \n\n        track_number   acousticness   danceability  duration_ms_y   \ncount  301508.000000  301545.000000  301545.000000   3.015450e+05  \\\nmean        6.073889       0.300412       0.564159   2.407267e+05   \nstd         6.150757       0.326362       0.175332   1.102750e+05   \nmin         1.000000       0.000000       0.000000   2.000000e+03   \n25%         2.000000       0.019200       0.450000   1.915300e+05   \n50%         5.000000       0.152000       0.576000   2.256670e+05   \n75%         9.000000       0.550000       0.693000   2.694590e+05   \nmax       167.000000       0.996000       0.991000   5.279768e+06   \n\n              energy  instrumentalness            key       liveness   \ncount  301545.000000     301545.000000  301545.000000  301545.000000  \\\nmean        0.615033          0.146077       5.253063       0.203609   \nstd         0.247393          0.295944       3.571795       0.180150   \nmin         0.000000          0.000000       0.000000       0.000000   \n25%         0.447000          0.000000       2.000000       0.096200   \n50%         0.653000          0.000069       5.000000       0.127000   \n75%         0.819000          0.047100       8.000000       0.257000   \nmax         1.000000          1.000000      11.000000       1.000000   \n\n            loudness           mode    speechiness          tempo   \ncount  301545.000000  301545.000000  301545.000000  301545.000000  \\\nmean       -8.495913       0.659271       0.087874     120.826521   \nstd         4.822996       0.473955       0.102617      29.510038   \nmin       -60.000000       0.000000       0.000000       0.000000   \n25%       -10.320000       0.000000       0.034800      97.917000   \n50%        -7.272000       1.000000       0.047100     120.050000   \n75%        -5.306000       1.000000       0.088100     139.853000   \nmax         3.744000       1.000000       0.965000     247.938000   \n\n       time_signature        valence  \ncount   301545.000000  301545.000000  \nmean         3.905112       0.470279  \nstd          0.416629       0.256793  \nmin          0.000000       0.000000  \n25%          4.000000       0.259000  \n50%          4.000000       0.457000  \n75%          4.000000       0.674000  \nmax          5.000000       1.000000  ",
      "text/html": "<div>\n<style scoped>\n    .dataframe tbody tr th:only-of-type {\n        vertical-align: middle;\n    }\n\n    .dataframe tbody tr th {\n        vertical-align: top;\n    }\n\n    .dataframe thead th {\n        text-align: right;\n    }\n</style>\n<table border=\"1\" class=\"dataframe\">\n  <thead>\n    <tr style=\"text-align: right;\">\n      <th></th>\n      <th>duration_ms_x</th>\n      <th>popularity</th>\n      <th>explicit</th>\n      <th>is_local</th>\n      <th>disc_number</th>\n      <th>track_number</th>\n      <th>acousticness</th>\n      <th>danceability</th>\n      <th>duration_ms_y</th>\n      <th>energy</th>\n      <th>instrumentalness</th>\n      <th>key</th>\n      <th>liveness</th>\n      <th>loudness</th>\n      <th>mode</th>\n      <th>speechiness</th>\n      <th>tempo</th>\n      <th>time_signature</th>\n      <th>valence</th>\n    </tr>\n  </thead>\n  <tbody>\n    <tr>\n      <th>count</th>\n      <td>3.015080e+05</td>\n      <td>301508.000000</td>\n      <td>301508.000000</td>\n      <td>301508.0</td>\n      <td>301508.000000</td>\n      <td>301508.000000</td>\n      <td>301545.000000</td>\n      <td>301545.000000</td>\n      <td>3.015450e+05</td>\n      <td>301545.000000</td>\n      <td>301545.000000</td>\n      <td>301545.000000</td>\n      <td>301545.000000</td>\n      <td>301545.000000</td>\n      <td>301545.000000</td>\n      <td>301545.000000</td>\n      <td>301545.000000</td>\n      <td>301545.000000</td>\n      <td>301545.000000</td>\n    </tr>\n    <tr>\n      <th>mean</th>\n      <td>2.406148e+05</td>\n      <td>16.801889</td>\n      <td>0.122222</td>\n      <td>0.0</td>\n      <td>1.033714</td>\n      <td>6.073889</td>\n      <td>0.300412</td>\n      <td>0.564159</td>\n      <td>2.407267e+05</td>\n      <td>0.615033</td>\n      <td>0.146077</td>\n      <td>5.253063</td>\n      <td>0.203609</td>\n      <td>-8.495913</td>\n      <td>0.659271</td>\n      <td>0.087874</td>\n      <td>120.826521</td>\n      <td>3.905112</td>\n      <td>0.470279</td>\n    </tr>\n    <tr>\n      <th>std</th>\n      <td>1.110043e+05</td>\n      <td>18.569157</td>\n      <td>0.327543</td>\n      <td>0.0</td>\n      <td>0.327904</td>\n      <td>6.150757</td>\n      <td>0.326362</td>\n      <td>0.175332</td>\n      <td>1.102750e+05</td>\n      <td>0.247393</td>\n      <td>0.295944</td>\n      <td>3.571795</td>\n      <td>0.180150</td>\n      <td>4.822996</td>\n      <td>0.473955</td>\n      <td>0.102617</td>\n      <td>29.510038</td>\n      <td>0.416629</td>\n      <td>0.256793</td>\n    </tr>\n    <tr>\n      <th>min</th>\n      <td>0.000000e+00</td>\n      <td>0.000000</td>\n      <td>0.000000</td>\n      <td>0.0</td>\n      <td>1.000000</td>\n      <td>1.000000</td>\n      <td>0.000000</td>\n      <td>0.000000</td>\n      <td>2.000000e+03</td>\n      <td>0.000000</td>\n      <td>0.000000</td>\n      <td>0.000000</td>\n      <td>0.000000</td>\n      <td>-60.000000</td>\n      <td>0.000000</td>\n      <td>0.000000</td>\n      <td>0.000000</td>\n      <td>0.000000</td>\n      <td>0.000000</td>\n    </tr>\n    <tr>\n      <th>25%</th>\n      <td>1.914660e+05</td>\n      <td>0.000000</td>\n      <td>0.000000</td>\n      <td>0.0</td>\n      <td>1.000000</td>\n      <td>2.000000</td>\n      <td>0.019200</td>\n      <td>0.450000</td>\n      <td>1.915300e+05</td>\n      <td>0.447000</td>\n      <td>0.000000</td>\n      <td>2.000000</td>\n      <td>0.096200</td>\n      <td>-10.320000</td>\n      <td>0.000000</td>\n      <td>0.034800</td>\n      <td>97.917000</td>\n      <td>4.000000</td>\n      <td>0.259000</td>\n    </tr>\n    <tr>\n      <th>50%</th>\n      <td>2.256335e+05</td>\n      <td>11.000000</td>\n      <td>0.000000</td>\n      <td>0.0</td>\n      <td>1.000000</td>\n      <td>5.000000</td>\n      <td>0.152000</td>\n      <td>0.576000</td>\n      <td>2.256670e+05</td>\n      <td>0.653000</td>\n      <td>0.000069</td>\n      <td>5.000000</td>\n      <td>0.127000</td>\n      <td>-7.272000</td>\n      <td>1.000000</td>\n      <td>0.047100</td>\n      <td>120.050000</td>\n      <td>4.000000</td>\n      <td>0.457000</td>\n    </tr>\n    <tr>\n      <th>75%</th>\n      <td>2.694268e+05</td>\n      <td>31.000000</td>\n      <td>0.000000</td>\n      <td>0.0</td>\n      <td>1.000000</td>\n      <td>9.000000</td>\n      <td>0.550000</td>\n      <td>0.693000</td>\n      <td>2.694590e+05</td>\n      <td>0.819000</td>\n      <td>0.047100</td>\n      <td>8.000000</td>\n      <td>0.257000</td>\n      <td>-5.306000</td>\n      <td>1.000000</td>\n      <td>0.088100</td>\n      <td>139.853000</td>\n      <td>4.000000</td>\n      <td>0.674000</td>\n    </tr>\n    <tr>\n      <th>max</th>\n      <td>6.348017e+06</td>\n      <td>91.000000</td>\n      <td>1.000000</td>\n      <td>0.0</td>\n      <td>43.000000</td>\n      <td>167.000000</td>\n      <td>0.996000</td>\n      <td>0.991000</td>\n      <td>5.279768e+06</td>\n      <td>1.000000</td>\n      <td>1.000000</td>\n      <td>11.000000</td>\n      <td>1.000000</td>\n      <td>3.744000</td>\n      <td>1.000000</td>\n      <td>0.965000</td>\n      <td>247.938000</td>\n      <td>5.000000</td>\n      <td>1.000000</td>\n    </tr>\n  </tbody>\n</table>\n</div>"
     },
     "execution_count": 59,
     "metadata": {},
     "output_type": "execute_result"
    }
   ],
   "source": [
    "df.describe()"
   ],
   "metadata": {
    "collapsed": false
   }
  },
  {
   "cell_type": "code",
   "execution_count": 60,
   "outputs": [],
   "source": [
    "#sns.pairplot(df)\n",
    "#plt.show()"
   ],
   "metadata": {
    "collapsed": false
   }
  },
  {
   "cell_type": "code",
   "execution_count": 60,
   "outputs": [],
   "source": [],
   "metadata": {
    "collapsed": false
   }
  },
  {
   "cell_type": "code",
   "execution_count": 61,
   "outputs": [
    {
     "data": {
      "text/plain": "<Figure size 640x480 with 1 Axes>",
      "image/png": "[encoded data removed]"
     },
     "metadata": {},
     "output_type": "display_data"
    }
   ],
   "source": [
    "sns.histplot(df[\"popularity\"])\n",
    "plt.show()"
   ],
   "metadata": {
    "collapsed": false
   }
  },
  {
   "cell_type": "code",
   "execution_count": 62,
   "outputs": [
    {
     "data": {
      "text/plain": "<Figure size 640x480 with 1 Axes>",
      "image/png": "[encoded data removed]"
     },
     "metadata": {},
     "output_type": "display_data"
    }
   ],
   "source": [
    "sns.histplot(df[\"duration_ms_x\"])\n",
    "plt.show()"
   ],
   "metadata": {
    "collapsed": false
   }
  },
  {
   "cell_type": "code",
   "execution_count": 63,
   "outputs": [
    {
     "data": {
      "text/plain": "<Figure size 640x480 with 1 Axes>",
      "image/png": "[encoded data removed]"
     },
     "metadata": {},
     "output_type": "display_data"
    }
   ],
   "source": [
    "sns.scatterplot(x=df[\"duration_ms_x\"], y=df[\"popularity\"])\n",
    "plt.show()"
   ],
   "metadata": {
    "collapsed": false
   }
  },
  {
   "cell_type": "markdown",
   "source": [
    "# Data transformation"
   ],
   "metadata": {
    "collapsed": false
   }
  },
  {
   "cell_type": "markdown",
   "source": [
    "#### Check if we can delete type_x and type_y"
   ],
   "metadata": {
    "collapsed": false
   }
  },
  {
   "cell_type": "code",
   "execution_count": 64,
   "outputs": [
    {
     "data": {
      "text/plain": "array(['track', nan], dtype=object)"
     },
     "execution_count": 64,
     "metadata": {},
     "output_type": "execute_result"
    }
   ],
   "source": [
    "df[\"type_x\"].unique()\n",
    "# the documentation also says it just says the type (track)"
   ],
   "metadata": {
    "collapsed": false
   }
  },
  {
   "cell_type": "code",
   "execution_count": 65,
   "outputs": [
    {
     "data": {
      "text/plain": "array(['audio_features', nan], dtype=object)"
     },
     "execution_count": 65,
     "metadata": {},
     "output_type": "execute_result"
    }
   ],
   "source": [
    "df[\"type_y\"].unique()\n",
    "# the documentation also says it just says the type (track)"
   ],
   "metadata": {
    "collapsed": false
   }
  },
  {
   "cell_type": "markdown",
   "source": [
    "-> Only 1 value so no information"
   ],
   "metadata": {
    "collapsed": false
   }
  },
  {
   "cell_type": "code",
   "execution_count": 66,
   "outputs": [],
   "source": [
    "del df[\"type_x\"]\n",
    "del df[\"type_y\"]"
   ],
   "metadata": {
    "collapsed": false
   }
  },
  {
   "cell_type": "markdown",
   "source": [
    "### Deleting duplicated columns\n",
    "\n",
    "##### title and name have the same meaning\n",
    "-> check which one has more NaN values and delete it"
   ],
   "metadata": {
    "collapsed": false
   }
  },
  {
   "cell_type": "code",
   "execution_count": 67,
   "outputs": [
    {
     "name": "stdout",
     "output_type": "stream",
     "text": [
      "title has 118226 NaN values.\n",
      "name has 38 NaN values.\n"
     ]
    }
   ],
   "source": [
    "print(f\"title has {df['title'].isnull().sum()} NaN values.\")\n",
    "print(f\"name has {df['name'].isnull().sum()} NaN values.\")"
   ],
   "metadata": {
    "collapsed": false
   }
  },
  {
   "cell_type": "code",
   "execution_count": 68,
   "outputs": [],
   "source": [
    "del df[\"title\"]"
   ],
   "metadata": {
    "collapsed": false
   }
  },
  {
   "cell_type": "markdown",
   "source": [
    "##### Is there a difference between duration_ms_x and duration_ms_y?"
   ],
   "metadata": {
    "collapsed": false
   }
  },
  {
   "cell_type": "code",
   "execution_count": 69,
   "outputs": [
    {
     "data": {
      "text/plain": "<Figure size 640x480 with 1 Axes>",
      "image/png": "[encoded data removed]"
     },
     "metadata": {},
     "output_type": "display_data"
    }
   ],
   "source": [
    "sns.histplot(df[\"duration_ms_x\"])\n",
    "plt.show()"
   ],
   "metadata": {
    "collapsed": false
   }
  },
  {
   "cell_type": "code",
   "execution_count": 70,
   "outputs": [
    {
     "data": {
      "text/plain": "<Figure size 640x480 with 1 Axes>",
      "image/png": "[encoded data removed]"
     },
     "metadata": {},
     "output_type": "display_data"
    }
   ],
   "source": [
    "sns.histplot(df[\"duration_ms_y\"])\n",
    "plt.show()"
   ],
   "metadata": {
    "collapsed": false
   }
  },
  {
   "cell_type": "code",
   "execution_count": 71,
   "outputs": [
    {
     "name": "stdout",
     "output_type": "stream",
     "text": [
      "37.0% of the tracks have different duration_ms_x than duration_ms_y\n"
     ]
    }
   ],
   "source": [
    "print(f'{df[df[\"duration_ms_x\"] != df[\"duration_ms_y\"]].shape[0]/df.shape[0]*100//1}% of the tracks have different duration_ms_x than duration_ms_y')"
   ],
   "metadata": {
    "collapsed": false
   }
  },
  {
   "cell_type": "markdown",
   "source": [
    "-> From looking at the documentation they are probably the duration from the track and the feature table, so none of them is more credible than the other, so we take the mean"
   ],
   "metadata": {
    "collapsed": false
   }
  },
  {
   "cell_type": "code",
   "execution_count": 72,
   "outputs": [],
   "source": [
    "df[\"duration\"] = (df[\"duration_ms_y\"] + df[\"duration_ms_x\"]) / 2"
   ],
   "metadata": {
    "collapsed": false
   }
  },
  {
   "cell_type": "markdown",
   "source": [
    "Test if it is the mean"
   ],
   "metadata": {
    "collapsed": false
   }
  },
  {
   "cell_type": "code",
   "execution_count": 73,
   "outputs": [
    {
     "data": {
      "text/plain": "                                      duration_ms_x  duration_ms_y  duration\nuri                                                                         \nspotify:track:7xbgcwhFLETsHgEHChBN8X       184933.0       184933.0  184933.0\nspotify:track:3gZUflBBfgS3QiTSTg0hk0       208671.0       208671.0  208671.0\nspotify:track:5Q1sfEJnyGQbc8XmwQzmEh       179813.0       179813.0  179813.0\nspotify:track:7eg2ybD6Qo6eLXg3UdSB9q       362853.0       362853.0  362853.0\nspotify:track:3PerbGU5AAxDDSKMDGryaa       240960.0       240960.0  240960.0\nspotify:track:0UFRX4yCQN0PgXaRhNd63N       541000.0       541000.0  541000.0\nspotify:track:22SbLS4Atq2XG1267n3W7d       297773.0       297773.0  297773.0\nspotify:track:5ligikF0zByEacrccEawGo       127933.0       127933.0  127933.0\nspotify:track:18bjraoIs57fzdy29tl3bG       225506.0       225507.0  225506.5\nspotify:track:5ZVRMi7k8TFucwDU7fNRa3       249320.0       249320.0  249320.0",
      "text/html": "<div>\n<style scoped>\n    .dataframe tbody tr th:only-of-type {\n        vertical-align: middle;\n    }\n\n    .dataframe tbody tr th {\n        vertical-align: top;\n    }\n\n    .dataframe thead th {\n        text-align: right;\n    }\n</style>\n<table border=\"1\" class=\"dataframe\">\n  <thead>\n    <tr style=\"text-align: right;\">\n      <th></th>\n      <th>duration_ms_x</th>\n      <th>duration_ms_y</th>\n      <th>duration</th>\n    </tr>\n    <tr>\n      <th>uri</th>\n      <th></th>\n      <th></th>\n      <th></th>\n    </tr>\n  </thead>\n  <tbody>\n    <tr>\n      <th>spotify:track:7xbgcwhFLETsHgEHChBN8X</th>\n      <td>184933.0</td>\n      <td>184933.0</td>\n      <td>184933.0</td>\n    </tr>\n    <tr>\n      <th>spotify:track:3gZUflBBfgS3QiTSTg0hk0</th>\n      <td>208671.0</td>\n      <td>208671.0</td>\n      <td>208671.0</td>\n    </tr>\n    <tr>\n      <th>spotify:track:5Q1sfEJnyGQbc8XmwQzmEh</th>\n      <td>179813.0</td>\n      <td>179813.0</td>\n      <td>179813.0</td>\n    </tr>\n    <tr>\n      <th>spotify:track:7eg2ybD6Qo6eLXg3UdSB9q</th>\n      <td>362853.0</td>\n      <td>362853.0</td>\n      <td>362853.0</td>\n    </tr>\n    <tr>\n      <th>spotify:track:3PerbGU5AAxDDSKMDGryaa</th>\n      <td>240960.0</td>\n      <td>240960.0</td>\n      <td>240960.0</td>\n    </tr>\n    <tr>\n      <th>spotify:track:0UFRX4yCQN0PgXaRhNd63N</th>\n      <td>541000.0</td>\n      <td>541000.0</td>\n      <td>541000.0</td>\n    </tr>\n    <tr>\n      <th>spotify:track:22SbLS4Atq2XG1267n3W7d</th>\n      <td>297773.0</td>\n      <td>297773.0</td>\n      <td>297773.0</td>\n    </tr>\n    <tr>\n      <th>spotify:track:5ligikF0zByEacrccEawGo</th>\n      <td>127933.0</td>\n      <td>127933.0</td>\n      <td>127933.0</td>\n    </tr>\n    <tr>\n      <th>spotify:track:18bjraoIs57fzdy29tl3bG</th>\n      <td>225506.0</td>\n      <td>225507.0</td>\n      <td>225506.5</td>\n    </tr>\n    <tr>\n      <th>spotify:track:5ZVRMi7k8TFucwDU7fNRa3</th>\n      <td>249320.0</td>\n      <td>249320.0</td>\n      <td>249320.0</td>\n    </tr>\n  </tbody>\n</table>\n</div>"
     },
     "execution_count": 73,
     "metadata": {},
     "output_type": "execute_result"
    }
   ],
   "source": [
    "df[[\"duration_ms_x\", \"duration_ms_y\", \"duration\"]].sample(10)"
   ],
   "metadata": {
    "collapsed": false
   }
  },
  {
   "cell_type": "code",
   "execution_count": 74,
   "outputs": [],
   "source": [
    "del df[\"duration_ms_y\"]\n",
    "del df[\"duration_ms_x\"]"
   ],
   "metadata": {
    "collapsed": false
   }
  },
  {
   "cell_type": "markdown",
   "source": [
    "#### See how many NaNs values each column has"
   ],
   "metadata": {
    "collapsed": false
   }
  },
  {
   "cell_type": "code",
   "execution_count": 75,
   "outputs": [
    {
     "name": "stdout",
     "output_type": "stream",
     "text": [
      "name has 0.0% NaN values\n",
      "popularity has 0.0% NaN values\n",
      "explicit has 0.0% NaN values\n",
      "is_local has 0.0% NaN values\n",
      "available_markets has 0.0% NaN values\n",
      "preview_url has 50.0% NaN values\n",
      "disc_number has 0.0% NaN values\n",
      "track_number has 0.0% NaN values\n",
      "artist has 39.0% NaN values\n",
      "language has 40.0% NaN values\n",
      "lyrics has 39.0% NaN values\n",
      "acousticness has 0.0% NaN values\n",
      "danceability has 0.0% NaN values\n",
      "energy has 0.0% NaN values\n",
      "instrumentalness has 0.0% NaN values\n",
      "key has 0.0% NaN values\n",
      "liveness has 0.0% NaN values\n",
      "loudness has 0.0% NaN values\n",
      "mode has 0.0% NaN values\n",
      "speechiness has 0.0% NaN values\n",
      "tempo has 0.0% NaN values\n",
      "time_signature has 0.0% NaN values\n",
      "valence has 0.0% NaN values\n",
      "duration has 0.0% NaN values\n"
     ]
    }
   ],
   "source": [
    "for column in df:\n",
    "    print(f\"{column} has {df[column].isnull().sum()/df.shape[0]*100//1}% NaN values\")"
   ],
   "metadata": {
    "collapsed": false
   }
  },
  {
   "cell_type": "markdown",
   "source": [
    "-> Columns with high number of NaNs: preview_url, artist, language and lyrics"
   ],
   "metadata": {
    "collapsed": false
   }
  },
  {
   "cell_type": "markdown",
   "source": [
    "#### Fixing preview_url"
   ],
   "metadata": {
    "collapsed": false
   }
  },
  {
   "cell_type": "markdown",
   "source": [
    "There is no relevant information in the preview_url because the only information that could be useful is the ending (.de, .com,...) to see from which country the song is,\n",
    "but this is already covered by available markets"
   ],
   "metadata": {
    "collapsed": false
   }
  },
  {
   "cell_type": "code",
   "execution_count": 76,
   "outputs": [],
   "source": [
    "del df[\"preview_url\"]"
   ],
   "metadata": {
    "collapsed": false
   }
  },
  {
   "cell_type": "markdown",
   "source": [
    "#### Fixing language"
   ],
   "metadata": {
    "collapsed": false
   }
  },
  {
   "cell_type": "code",
   "execution_count": 77,
   "outputs": [
    {
     "name": "stdout",
     "output_type": "stream",
     "text": [
      "40.0% of the language entries are NaN.\n"
     ]
    }
   ],
   "source": [
    "print(f\"{df['language'].isnull().sum()/df.shape[0]*100//1}% of the language entries are NaN.\")"
   ],
   "metadata": {
    "collapsed": false
   }
  },
  {
   "cell_type": "markdown",
   "source": [
    "##### Can we fill it up over the artist?"
   ],
   "metadata": {
    "collapsed": false
   }
  },
  {
   "cell_type": "code",
   "execution_count": 78,
   "outputs": [
    {
     "name": "stdout",
     "output_type": "stream",
     "text": [
      "96.0% of the rows with missing language have a missing artist value.\n"
     ]
    }
   ],
   "source": [
    "print(f'{df[df[\"language\"].isna()][\"artist\"].isnull().sum()/df[\"language\"].isnull().sum()*100//1}% of the rows with missing language have a missing artist value.')"
   ],
   "metadata": {
    "collapsed": false
   }
  },
  {
   "cell_type": "markdown",
   "source": [
    "-> No, that won't be a solution"
   ],
   "metadata": {
    "collapsed": false
   }
  },
  {
   "cell_type": "markdown",
   "source": [
    "##### Can we fill it up over the language of the language of the name?"
   ],
   "metadata": {
    "collapsed": false
   }
  },
  {
   "cell_type": "markdown",
   "source": [
    "How many and what languages do we have?"
   ],
   "metadata": {
    "collapsed": false
   }
  },
  {
   "cell_type": "code",
   "execution_count": 79,
   "outputs": [
    {
     "name": "stdout",
     "output_type": "stream",
     "text": [
      "There are 50 unique languages in the language column.\n",
      "The Languages are: (language/number of tracks in this language)\n",
      "nan: 0 en: 163995 ja: 74 pt: 909 None: 0 es: 11155 fil: 379 fr: 836 it: 338 fi: 36 de: 376 ko: 417 is: 39 tr: 123 da: 28 sv: 148 no: 19 uk: 1 hi: 56 ar: 40 ru: 32 ta: 15 he: 41 pl: 18 gl: 1 id: 15 zh: 13 nl: 22 vi: 1 el: 24 fa: 13 la: 6 ro: 6 cy: 2 af: 7 ca: 7 ur: 1 sq: 3 pa: 3 te: 2 ceb: 1 bg: 2 eo: 1 ga: 6 hr: 1 eu: 1 lt: 1 hu: 2 gd: 1 sk: 1 "
     ]
    }
   ],
   "source": [
    "languages = df[\"language\"].unique()\n",
    "print(f\"There are {languages.shape[0]} unique languages in the language column.\")\n",
    "print(\"The Languages are: (language/number of tracks in this language)\")\n",
    "for language in languages:\n",
    "    print(str(language) + \": \" + str(df[df[\"language\"] == language].shape[0]), end=\" \")"
   ],
   "metadata": {
    "collapsed": false
   }
  },
  {
   "cell_type": "markdown",
   "source": [
    "##### Building classification model to fill up the nan values in the language column"
   ],
   "metadata": {
    "collapsed": false
   }
  },
  {
   "cell_type": "code",
   "execution_count": 80,
   "outputs": [],
   "source": [
    "### TODO"
   ],
   "metadata": {
    "collapsed": false
   }
  },
  {
   "cell_type": "markdown",
   "source": [
    "##### Check if we can use a language classification model to detect the language from the name"
   ],
   "metadata": {
    "collapsed": false
   }
  },
  {
   "cell_type": "code",
   "execution_count": 81,
   "outputs": [],
   "source": [
    "base_options = python.BaseOptions(model_asset_path=\"language_detector.tflite\")\n",
    "options = text.LanguageDetectorOptions(base_options=base_options)"
   ],
   "metadata": {
    "collapsed": false
   }
  },
  {
   "cell_type": "code",
   "execution_count": 82,
   "outputs": [
    {
     "name": "stderr",
     "output_type": "stream",
     "text": [
      "INFO: Created TensorFlow Lite XNNPACK delegate for CPU.\n"
     ]
    },
    {
     "name": "stdout",
     "output_type": "stream",
     "text": [
      "Number of correct detected languages: 85.0\n",
      "Number of not detected languages: 14.0\n"
     ]
    }
   ],
   "source": [
    "with python.text.LanguageDetector.create_from_options(options) as detector:\n",
    "    number_all = df[~df[\"language\"].isnull()].shape[0]\n",
    "    number_right_detected = 0\n",
    "    number_not_detected = 0\n",
    "    for index, row in df[~df[\"language\"].isnull()].iterrows():\n",
    "        detection_result = detector.detect(str(row[\"name\"]))\n",
    "        if len(detection_result.detections) > 0 and str(row[\"language\"]) == str(detection_result.detections[0].language_code):\n",
    "            number_right_detected += 1\n",
    "        else:\n",
    "            number_not_detected += 1\n",
    "    print(f\"Number of correct detected languages: {number_right_detected/number_all*100//1} (Precision)\")\n",
    "    print(f\"Number of not detected languages: {number_not_detected/number_all*100//1}\")"
   ],
   "metadata": {
    "collapsed": false
   }
  },
  {
   "cell_type": "code",
   "execution_count": 83,
   "outputs": [
    {
     "name": "stdout",
     "output_type": "stream",
     "text": [
      "6595\n"
     ]
    }
   ],
   "source": [
    "with python.text.LanguageDetector.create_from_options(options) as detector:\n",
    "    i = 0\n",
    "    for index, row in df[df[\"language\"].isnull()].iterrows():\n",
    "        detection_result = detector.detect(str(row[\"name\"]))\n",
    "        if len(detection_result.detections) > 0:\n",
    "            i += 1\n",
    "            df.loc[index, \"language\"] = detection_result.detections[0].language_code\n",
    "print(f\"{df[df['language'].isnull()].shape[0]/ df.shape[0] * 100 // 1}% of the language values are still NaN.\")"
   ],
   "metadata": {
    "collapsed": false
   }
  },
  {
   "cell_type": "markdown",
   "source": [
    "-> There are no more ways to fill these missing values so we will drop the rows with missing language values"
   ],
   "metadata": {
    "collapsed": false
   }
  },
  {
   "cell_type": "code",
   "execution_count": 86,
   "outputs": [
    {
     "name": "stdout",
     "output_type": "stream",
     "text": [
      "0 of the language values are still NaN.\n"
     ]
    }
   ],
   "source": [
    "df.dropna(axis=0, subset=[\"language\"], inplace=True)\n",
    "print(f\"{df[df['language'].isnull()].shape[0]} of the language values are still NaN.\")"
   ],
   "metadata": {
    "collapsed": false
   }
  },
  {
   "cell_type": "markdown",
   "source": [
    "#### Fixing artist"
   ],
   "metadata": {
    "collapsed": false
   }
  },
  {
   "cell_type": "markdown",
   "source": [
    "There is no way to fill the missing values, so we need to delete the entire column because 39% NaNs is very high"
   ],
   "metadata": {
    "collapsed": false
   }
  },
  {
   "cell_type": "code",
   "execution_count": 87,
   "outputs": [],
   "source": [
    "del df[\"artist\"]"
   ],
   "metadata": {
    "collapsed": false
   }
  },
  {
   "cell_type": "markdown",
   "source": [
    "#### Fixing lyrics"
   ],
   "metadata": {
    "collapsed": false
   }
  },
  {
   "cell_type": "markdown",
   "source": [
    "There is no way to fill the missing values, so we need to delete the entire column because 39% NaNs is very high"
   ],
   "metadata": {
    "collapsed": false
   }
  },
  {
   "cell_type": "code",
   "execution_count": 88,
   "outputs": [],
   "source": [
    "del df[\"lyrics\"]"
   ],
   "metadata": {
    "collapsed": false
   }
  },
  {
   "cell_type": "markdown",
   "source": [
    "#### Control if we handled all NaNs values"
   ],
   "metadata": {
    "collapsed": false
   }
  },
  {
   "cell_type": "code",
   "execution_count": 89,
   "outputs": [
    {
     "name": "stdout",
     "output_type": "stream",
     "text": [
      "name has 18 NaN values\n",
      "popularity has 18 NaN values\n",
      "explicit has 18 NaN values\n",
      "is_local has 18 NaN values\n",
      "available_markets has 18 NaN values\n",
      "disc_number has 18 NaN values\n",
      "track_number has 18 NaN values\n",
      "language has 0 NaN values\n",
      "acousticness has 1 NaN values\n",
      "danceability has 1 NaN values\n",
      "energy has 1 NaN values\n",
      "instrumentalness has 1 NaN values\n",
      "key has 1 NaN values\n",
      "liveness has 1 NaN values\n",
      "loudness has 1 NaN values\n",
      "mode has 1 NaN values\n",
      "speechiness has 1 NaN values\n",
      "tempo has 1 NaN values\n",
      "time_signature has 1 NaN values\n",
      "valence has 1 NaN values\n",
      "duration has 19 NaN values\n"
     ]
    }
   ],
   "source": [
    "for column in df:\n",
    "    print(f\"{column} has {df[column].isnull().sum()} NaN values\")"
   ],
   "metadata": {
    "collapsed": false
   }
  },
  {
   "cell_type": "markdown",
   "source": [
    "-> There are still a few NaN values but so few that we can just delete the regarding rows"
   ],
   "metadata": {
    "collapsed": false
   }
  },
  {
   "cell_type": "code",
   "execution_count": 90,
   "outputs": [],
   "source": [
    "df.dropna(inplace=True)"
   ],
   "metadata": {
    "collapsed": false
   }
  },
  {
   "cell_type": "code",
   "execution_count": 91,
   "outputs": [
    {
     "name": "stdout",
     "output_type": "stream",
     "text": [
      "name has 0 NaN values\n",
      "popularity has 0 NaN values\n",
      "explicit has 0 NaN values\n",
      "is_local has 0 NaN values\n",
      "available_markets has 0 NaN values\n",
      "disc_number has 0 NaN values\n",
      "track_number has 0 NaN values\n",
      "language has 0 NaN values\n",
      "acousticness has 0 NaN values\n",
      "danceability has 0 NaN values\n",
      "energy has 0 NaN values\n",
      "instrumentalness has 0 NaN values\n",
      "key has 0 NaN values\n",
      "liveness has 0 NaN values\n",
      "loudness has 0 NaN values\n",
      "mode has 0 NaN values\n",
      "speechiness has 0 NaN values\n",
      "tempo has 0 NaN values\n",
      "time_signature has 0 NaN values\n",
      "valence has 0 NaN values\n",
      "duration has 0 NaN values\n"
     ]
    }
   ],
   "source": [
    "for column in df:\n",
    "    print(f\"{column} has {df[column].isnull().sum()} NaN values\")"
   ],
   "metadata": {
    "collapsed": false
   }
  },
  {
   "cell_type": "markdown",
   "source": [
    "-> We handled all missing values"
   ],
   "metadata": {
    "collapsed": false
   }
  },
  {
   "cell_type": "markdown",
   "source": [
    "### Transform available_markets and language to numerical values"
   ],
   "metadata": {
    "collapsed": false
   }
  },
  {
   "cell_type": "markdown",
   "source": [
    "Check how many unique values there are to decide if we use one-hot-encoding or integer coding"
   ],
   "metadata": {
    "collapsed": false
   }
  },
  {
   "cell_type": "code",
   "execution_count": 92,
   "outputs": [
    {
     "name": "stdout",
     "output_type": "stream",
     "text": [
      "There are 100 unique languages.\n"
     ]
    }
   ],
   "source": [
    "print(f\"There are {df['language'].unique().shape[0]} unique languages.\")"
   ],
   "metadata": {
    "collapsed": false
   }
  },
  {
   "cell_type": "markdown",
   "source": [
    "-> We would about 6x the amount of features with one-hot-encoding => Integer Coding"
   ],
   "metadata": {
    "collapsed": false
   }
  },
  {
   "cell_type": "code",
   "execution_count": 93,
   "outputs": [],
   "source": [
    "df.language = df.language.astype(\"category\").cat.codes"
   ],
   "metadata": {
    "collapsed": false
   }
  },
  {
   "cell_type": "markdown",
   "source": [
    "Test if integer coding was successful"
   ],
   "metadata": {
    "collapsed": false
   }
  },
  {
   "cell_type": "code",
   "execution_count": 97,
   "outputs": [
    {
     "name": "stdout",
     "output_type": "stream",
     "text": [
      "There are 100 different codes\n"
     ]
    },
    {
     "data": {
      "text/plain": "uri\nspotify:track:42EfeKhnVCyCjiNKxC3nDT    17\nspotify:track:5i0mySNOf08Q0HeIwuMmfl    17\nspotify:track:1wBkInwdcTLnIUDvlzzr2G    17\nspotify:track:1n8k5b8kbFWGyTyXEWN92f    70\nspotify:track:5ug5eNxUoyrBi0tWQ0j0WN    17\nspotify:track:4bfZ1tgMLB5MIzSOW1Anm7    19\nspotify:track:0JwO5dONotY5mlVQDNaPKp    17\nspotify:track:6rMep7y542tAjU1nOshYfy    17\nspotify:track:2PEoQw82eyRqShG2u7nT1B    17\nspotify:track:2okg3JvGjJZaUu1HnDdYPQ    25\nName: language, dtype: int8"
     },
     "execution_count": 97,
     "metadata": {},
     "output_type": "execute_result"
    }
   ],
   "source": [
    "print(f\"There are {df['language'].unique().shape[0]} different codes\")\n",
    "df[\"language\"].sample(10)"
   ],
   "metadata": {
    "collapsed": false
   }
  },
  {
   "cell_type": "markdown",
   "source": [
    "-> 100 codes for 100 different languages"
   ],
   "metadata": {
    "collapsed": false
   }
  },
  {
   "cell_type": "code",
   "execution_count": 98,
   "outputs": [
    {
     "name": "stdout",
     "output_type": "stream",
     "text": [
      "{'', 'GY', 'DE', 'JP', 'PT', 'CY', 'NP', 'IL', 'MZ', 'GQ', 'KE', 'MC', 'AM', 'PK', 'KR', 'HN', 'FJ', 'AG', 'ML', 'KN', 'BB', 'ZW', 'RW', 'IS', 'MG', 'TJ', 'VC', 'BT', 'JM', 'ID', 'FM', 'LY', 'UG', 'SN', 'AL', 'BR', 'HR', 'GT', 'DM', 'NO', 'PW', 'IT', 'LT', 'QA', 'TW', 'VU', 'GA', 'TZ', 'VN', 'TT', 'CG', 'GW', 'NR', 'SA', 'BW', 'VE', 'CI', 'TN', 'ST', 'UY', 'KW', 'CM', 'BF', 'CW', 'BD', 'CO', 'LR', 'CR', 'BH', 'EC', 'BE', 'BS', 'SR', 'DK', 'RS', 'LS', 'ES', 'MW', 'BN', 'GR', 'IE', 'SZ', 'HT', 'NI', 'BA', 'BO', 'ZM', 'MX', 'FI', 'EG', 'OM', 'HU', 'LA', 'AU', 'AZ', 'LV', 'SK', 'UA', 'BY', 'TG', 'KM', 'TH', 'MA', 'KH', 'CL', 'SV', 'IQ', 'NG', 'TO', 'MR', 'PL', 'RO', 'SC', 'NA', 'BJ', 'LU', 'JO', 'DJ', 'CA', 'IN', 'PS', 'CV', 'FR', 'MK', 'GN', 'PG', 'GE', 'MT', 'GH', 'PH', 'LC', 'NL', 'KG', 'DZ', 'SB', 'UZ', 'SM', 'CH', 'ET', 'LI', 'AT', 'CZ', 'PE', 'MH', 'ZA', 'PY', 'MD', 'LB', 'SI', 'KZ', 'TV', 'CD', 'AD', 'AE', 'ME', 'NZ', 'GD', 'TL', 'SE', 'MU', 'KI', 'MY', 'BZ', 'WS', 'GB', 'DO', 'HK', 'MV', 'PA', 'XK', 'NE', 'SL', 'GM', 'EE', 'TR', 'LK', 'AO', 'SG', 'US', 'AR', 'BG', 'MN', 'MO', 'BI', 'TD'}\n",
      "185\n"
     ]
    }
   ],
   "source": [
    "countries = set()\n",
    "for index, row in df.iterrows():\n",
    "    countries.update(set(str(row[\"available_markets\"]).replace(\" \", \"\").split(\",\")))\n",
    "print(countries)\n",
    "print(len(countries))"
   ],
   "metadata": {
    "collapsed": false
   }
  },
  {
   "cell_type": "markdown",
   "source": [
    "-> 184 markets (\"\" is no market)are way too much for one-hot-encoding (around 10x the amount of features) and integer coding is not an option because there are often multiple markets in one row\n",
    "\n",
    "Further information: The official number of markets for spotify is also 184\n",
    "\n",
    "#### => Translate the markets in possible hearers (size of country)"
   ],
   "metadata": {
    "collapsed": false
   }
  },
  {
   "cell_type": "markdown",
   "source": [
    "-> Are there markets in which all tracks are available?"
   ],
   "metadata": {
    "collapsed": false
   }
  },
  {
   "cell_type": "code",
   "execution_count": 101,
   "outputs": [
    {
     "name": "stdout",
     "output_type": "stream",
     "text": [
      "In 0 markets every track is available.\n"
     ]
    }
   ],
   "source": [
    "cut_countries = set()\n",
    "for index, row in df.iterrows():\n",
    "    cut_countries = set.intersection(set(str(row[\"available_markets\"]).replace(\" \", \"\").split(\",\")), cut_countries)\n",
    "print(f\"In {len(cut_countries)} markets every track is available.\")"
   ],
   "metadata": {
    "collapsed": false
   }
  },
  {
   "cell_type": "markdown",
   "source": [
    "-> No so all are relevant\n",
    "But there is no specific data about the users per market, only per continent so it is pretty hard to get the number of possible hearers\n",
    "=> We will just use the number of available markets"
   ],
   "metadata": {
    "collapsed": false
   }
  },
  {
   "cell_type": "code",
   "execution_count": 103,
   "outputs": [
    {
     "data": {
      "text/plain": "                                                                                   name   \nuri                                                                                       \nspotify:track:1ha3XBhUKsYk74cbsHzpCj                                     Boum Boum Boum  \\\nspotify:track:4khIzR2eRZbjeNBUktTBpO                                       Totally True   \nspotify:track:42OUCmD1mBbtK7l10y7KMp                      Run Free - Soundtrack Version   \nspotify:track:6q96EhT2cm3ldcM8mJ1bIP                                   Quick To Get 'Em   \nspotify:track:7AlFRA7zpc30NM8LO3ZcE4                                         Same Power   \nspotify:track:2153LlVtgMJwSRdcLop21z                                              Boost   \nspotify:track:6mCjOSXkABONouTVa6PQOy  Tell That Mick He Just Made My List of Things ...   \nspotify:track:6DVdPhPZLyKerEivsLbQHM         Free the Madness (feat. Machine Gun Kelly)   \nspotify:track:7jrsEhPff3epWscTrHQ3Po                                   $tacks of Dreams   \nspotify:track:5imt9MfGljTBou5P9yftRJ                                      Even the Rain   \n\n                                      popularity  explicit  is_local   \nuri                                                                    \nspotify:track:1ha3XBhUKsYk74cbsHzpCj         0.0       0.0       0.0  \\\nspotify:track:4khIzR2eRZbjeNBUktTBpO         0.0       0.0       0.0   \nspotify:track:42OUCmD1mBbtK7l10y7KMp         0.0       0.0       0.0   \nspotify:track:6q96EhT2cm3ldcM8mJ1bIP         0.0       1.0       0.0   \nspotify:track:7AlFRA7zpc30NM8LO3ZcE4        52.0       0.0       0.0   \nspotify:track:2153LlVtgMJwSRdcLop21z        25.0       0.0       0.0   \nspotify:track:6mCjOSXkABONouTVa6PQOy        51.0       0.0       0.0   \nspotify:track:6DVdPhPZLyKerEivsLbQHM        34.0       1.0       0.0   \nspotify:track:7jrsEhPff3epWscTrHQ3Po        17.0       1.0       0.0   \nspotify:track:5imt9MfGljTBou5P9yftRJ        15.0       0.0       0.0   \n\n                                                                      available_markets   \nuri                                                                                       \nspotify:track:1ha3XBhUKsYk74cbsHzpCj                                                     \\\nspotify:track:4khIzR2eRZbjeNBUktTBpO                                                      \nspotify:track:42OUCmD1mBbtK7l10y7KMp                                                      \nspotify:track:6q96EhT2cm3ldcM8mJ1bIP                                                      \nspotify:track:7AlFRA7zpc30NM8LO3ZcE4  AR, AU, AT, BE, BO, BR, BG, CA, CL, CO, CR, CY...   \nspotify:track:2153LlVtgMJwSRdcLop21z  AR, AU, AT, BE, BO, BR, BG, CA, CL, CO, CR, CY...   \nspotify:track:6mCjOSXkABONouTVa6PQOy  AR, AU, AT, BE, BO, BR, BG, CA, CL, CO, CR, CY...   \nspotify:track:6DVdPhPZLyKerEivsLbQHM  AR, AT, BE, BO, BR, BG, CA, CL, CO, CR, CY, CZ...   \nspotify:track:7jrsEhPff3epWscTrHQ3Po  AR, AU, AT, BE, BO, BR, BG, CA, CL, CO, CR, CY...   \nspotify:track:5imt9MfGljTBou5P9yftRJ                                             CA, US   \n\n                                      disc_number  track_number  language   \nuri                                                                         \nspotify:track:1ha3XBhUKsYk74cbsHzpCj          1.0          10.0        25  \\\nspotify:track:4khIzR2eRZbjeNBUktTBpO          1.0           1.0        17   \nspotify:track:42OUCmD1mBbtK7l10y7KMp          1.0          10.0        17   \nspotify:track:6q96EhT2cm3ldcM8mJ1bIP          1.0          19.0        17   \nspotify:track:7AlFRA7zpc30NM8LO3ZcE4          1.0           9.0        17   \nspotify:track:2153LlVtgMJwSRdcLop21z          1.0           2.0        17   \nspotify:track:6mCjOSXkABONouTVa6PQOy          1.0           1.0        17   \nspotify:track:6DVdPhPZLyKerEivsLbQHM          1.0           7.0        17   \nspotify:track:7jrsEhPff3epWscTrHQ3Po          3.0           2.0        17   \nspotify:track:5imt9MfGljTBou5P9yftRJ          1.0           2.0        17   \n\n                                      acousticness  danceability  ...   \nuri                                                               ...   \nspotify:track:1ha3XBhUKsYk74cbsHzpCj      0.310000         0.623  ...  \\\nspotify:track:4khIzR2eRZbjeNBUktTBpO      0.007080         0.449  ...   \nspotify:track:42OUCmD1mBbtK7l10y7KMp      0.029000         0.224  ...   \nspotify:track:6q96EhT2cm3ldcM8mJ1bIP      0.097800         0.884  ...   \nspotify:track:7AlFRA7zpc30NM8LO3ZcE4      0.013000         0.424  ...   \nspotify:track:2153LlVtgMJwSRdcLop21z      0.018400         0.704  ...   \nspotify:track:6mCjOSXkABONouTVa6PQOy      0.000617         0.444  ...   \nspotify:track:6DVdPhPZLyKerEivsLbQHM      0.007520         0.772  ...   \nspotify:track:7jrsEhPff3epWscTrHQ3Po      0.170000         0.692  ...   \nspotify:track:5imt9MfGljTBou5P9yftRJ      0.550000         0.595  ...   \n\n                                      liveness  loudness  mode  speechiness   \nuri                                                                           \nspotify:track:1ha3XBhUKsYk74cbsHzpCj    0.1820    -6.547   1.0       0.0295  \\\nspotify:track:4khIzR2eRZbjeNBUktTBpO    0.3400    -7.394   1.0       0.0282   \nspotify:track:42OUCmD1mBbtK7l10y7KMp    0.1100   -12.324   1.0       0.0575   \nspotify:track:6q96EhT2cm3ldcM8mJ1bIP    0.3230    -6.557   0.0       0.2780   \nspotify:track:7AlFRA7zpc30NM8LO3ZcE4    0.0925    -4.433   1.0       0.0352   \nspotify:track:2153LlVtgMJwSRdcLop21z    0.1800    -6.666   1.0       0.0566   \nspotify:track:6mCjOSXkABONouTVa6PQOy    0.2020    -3.565   0.0       0.1080   \nspotify:track:6DVdPhPZLyKerEivsLbQHM    0.1440    -3.281   0.0       0.1400   \nspotify:track:7jrsEhPff3epWscTrHQ3Po    0.1860    -6.794   1.0       0.1080   \nspotify:track:5imt9MfGljTBou5P9yftRJ    0.2650    -7.024   1.0       0.0292   \n\n                                        tempo  time_signature  valence   \nuri                                                                      \nspotify:track:1ha3XBhUKsYk74cbsHzpCj  105.037             4.0    0.701  \\\nspotify:track:4khIzR2eRZbjeNBUktTBpO  154.924             4.0    0.516   \nspotify:track:42OUCmD1mBbtK7l10y7KMp  133.677             4.0    0.182   \nspotify:track:6q96EhT2cm3ldcM8mJ1bIP  104.965             4.0    0.720   \nspotify:track:7AlFRA7zpc30NM8LO3ZcE4  171.965             4.0    0.337   \nspotify:track:2153LlVtgMJwSRdcLop21z   92.984             4.0    0.198   \nspotify:track:6mCjOSXkABONouTVa6PQOy  197.073             4.0    0.418   \nspotify:track:6DVdPhPZLyKerEivsLbQHM  133.023             4.0    0.419   \nspotify:track:7jrsEhPff3epWscTrHQ3Po  145.865             4.0    0.450   \nspotify:track:5imt9MfGljTBou5P9yftRJ  111.982             4.0    0.463   \n\n                                      duration  availabe_markets   \nuri                                                                \nspotify:track:1ha3XBhUKsYk74cbsHzpCj  206332.5               1.0  \\\nspotify:track:4khIzR2eRZbjeNBUktTBpO  207406.0               1.0   \nspotify:track:42OUCmD1mBbtK7l10y7KMp  381533.0               1.0   \nspotify:track:6q96EhT2cm3ldcM8mJ1bIP  188000.0               1.0   \nspotify:track:7AlFRA7zpc30NM8LO3ZcE4  277280.0             168.0   \nspotify:track:2153LlVtgMJwSRdcLop21z  201290.0             184.0   \nspotify:track:6mCjOSXkABONouTVa6PQOy  210426.5             184.0   \nspotify:track:6DVdPhPZLyKerEivsLbQHM  259906.5             181.0   \nspotify:track:7jrsEhPff3epWscTrHQ3Po  191582.0             184.0   \nspotify:track:5imt9MfGljTBou5P9yftRJ  263426.5               2.0   \n\n                                      number_availabe_markets  \nuri                                                            \nspotify:track:1ha3XBhUKsYk74cbsHzpCj                      1.0  \nspotify:track:4khIzR2eRZbjeNBUktTBpO                      1.0  \nspotify:track:42OUCmD1mBbtK7l10y7KMp                      1.0  \nspotify:track:6q96EhT2cm3ldcM8mJ1bIP                      1.0  \nspotify:track:7AlFRA7zpc30NM8LO3ZcE4                    168.0  \nspotify:track:2153LlVtgMJwSRdcLop21z                    184.0  \nspotify:track:6mCjOSXkABONouTVa6PQOy                    184.0  \nspotify:track:6DVdPhPZLyKerEivsLbQHM                    181.0  \nspotify:track:7jrsEhPff3epWscTrHQ3Po                    184.0  \nspotify:track:5imt9MfGljTBou5P9yftRJ                      2.0  \n\n[10 rows x 23 columns]",
      "text/html": "<div>\n<style scoped>\n    .dataframe tbody tr th:only-of-type {\n        vertical-align: middle;\n    }\n\n    .dataframe tbody tr th {\n        vertical-align: top;\n    }\n\n    .dataframe thead th {\n        text-align: right;\n    }\n</style>\n<table border=\"1\" class=\"dataframe\">\n  <thead>\n    <tr style=\"text-align: right;\">\n      <th></th>\n      <th>name</th>\n      <th>popularity</th>\n      <th>explicit</th>\n      <th>is_local</th>\n      <th>available_markets</th>\n      <th>disc_number</th>\n      <th>track_number</th>\n      <th>language</th>\n      <th>acousticness</th>\n      <th>danceability</th>\n      <th>...</th>\n      <th>liveness</th>\n      <th>loudness</th>\n      <th>mode</th>\n      <th>speechiness</th>\n      <th>tempo</th>\n      <th>time_signature</th>\n      <th>valence</th>\n      <th>duration</th>\n      <th>availabe_markets</th>\n      <th>number_availabe_markets</th>\n    </tr>\n    <tr>\n      <th>uri</th>\n      <th></th>\n      <th></th>\n      <th></th>\n      <th></th>\n      <th></th>\n      <th></th>\n      <th></th>\n      <th></th>\n      <th></th>\n      <th></th>\n      <th></th>\n      <th></th>\n      <th></th>\n      <th></th>\n      <th></th>\n      <th></th>\n      <th></th>\n      <th></th>\n      <th></th>\n      <th></th>\n      <th></th>\n    </tr>\n  </thead>\n  <tbody>\n    <tr>\n      <th>spotify:track:1ha3XBhUKsYk74cbsHzpCj</th>\n      <td>Boum Boum Boum</td>\n      <td>0.0</td>\n      <td>0.0</td>\n      <td>0.0</td>\n      <td></td>\n      <td>1.0</td>\n      <td>10.0</td>\n      <td>25</td>\n      <td>0.310000</td>\n      <td>0.623</td>\n      <td>...</td>\n      <td>0.1820</td>\n      <td>-6.547</td>\n      <td>1.0</td>\n      <td>0.0295</td>\n      <td>105.037</td>\n      <td>4.0</td>\n      <td>0.701</td>\n      <td>206332.5</td>\n      <td>1.0</td>\n      <td>1.0</td>\n    </tr>\n    <tr>\n      <th>spotify:track:4khIzR2eRZbjeNBUktTBpO</th>\n      <td>Totally True</td>\n      <td>0.0</td>\n      <td>0.0</td>\n      <td>0.0</td>\n      <td></td>\n      <td>1.0</td>\n      <td>1.0</td>\n      <td>17</td>\n      <td>0.007080</td>\n      <td>0.449</td>\n      <td>...</td>\n      <td>0.3400</td>\n      <td>-7.394</td>\n      <td>1.0</td>\n      <td>0.0282</td>\n      <td>154.924</td>\n      <td>4.0</td>\n      <td>0.516</td>\n      <td>207406.0</td>\n      <td>1.0</td>\n      <td>1.0</td>\n    </tr>\n    <tr>\n      <th>spotify:track:42OUCmD1mBbtK7l10y7KMp</th>\n      <td>Run Free - Soundtrack Version</td>\n      <td>0.0</td>\n      <td>0.0</td>\n      <td>0.0</td>\n      <td></td>\n      <td>1.0</td>\n      <td>10.0</td>\n      <td>17</td>\n      <td>0.029000</td>\n      <td>0.224</td>\n      <td>...</td>\n      <td>0.1100</td>\n      <td>-12.324</td>\n      <td>1.0</td>\n      <td>0.0575</td>\n      <td>133.677</td>\n      <td>4.0</td>\n      <td>0.182</td>\n      <td>381533.0</td>\n      <td>1.0</td>\n      <td>1.0</td>\n    </tr>\n    <tr>\n      <th>spotify:track:6q96EhT2cm3ldcM8mJ1bIP</th>\n      <td>Quick To Get 'Em</td>\n      <td>0.0</td>\n      <td>1.0</td>\n      <td>0.0</td>\n      <td></td>\n      <td>1.0</td>\n      <td>19.0</td>\n      <td>17</td>\n      <td>0.097800</td>\n      <td>0.884</td>\n      <td>...</td>\n      <td>0.3230</td>\n      <td>-6.557</td>\n      <td>0.0</td>\n      <td>0.2780</td>\n      <td>104.965</td>\n      <td>4.0</td>\n      <td>0.720</td>\n      <td>188000.0</td>\n      <td>1.0</td>\n      <td>1.0</td>\n    </tr>\n    <tr>\n      <th>spotify:track:7AlFRA7zpc30NM8LO3ZcE4</th>\n      <td>Same Power</td>\n      <td>52.0</td>\n      <td>0.0</td>\n      <td>0.0</td>\n      <td>AR, AU, AT, BE, BO, BR, BG, CA, CL, CO, CR, CY...</td>\n      <td>1.0</td>\n      <td>9.0</td>\n      <td>17</td>\n      <td>0.013000</td>\n      <td>0.424</td>\n      <td>...</td>\n      <td>0.0925</td>\n      <td>-4.433</td>\n      <td>1.0</td>\n      <td>0.0352</td>\n      <td>171.965</td>\n      <td>4.0</td>\n      <td>0.337</td>\n      <td>277280.0</td>\n      <td>168.0</td>\n      <td>168.0</td>\n    </tr>\n    <tr>\n      <th>spotify:track:2153LlVtgMJwSRdcLop21z</th>\n      <td>Boost</td>\n      <td>25.0</td>\n      <td>0.0</td>\n      <td>0.0</td>\n      <td>AR, AU, AT, BE, BO, BR, BG, CA, CL, CO, CR, CY...</td>\n      <td>1.0</td>\n      <td>2.0</td>\n      <td>17</td>\n      <td>0.018400</td>\n      <td>0.704</td>\n      <td>...</td>\n      <td>0.1800</td>\n      <td>-6.666</td>\n      <td>1.0</td>\n      <td>0.0566</td>\n      <td>92.984</td>\n      <td>4.0</td>\n      <td>0.198</td>\n      <td>201290.0</td>\n      <td>184.0</td>\n      <td>184.0</td>\n    </tr>\n    <tr>\n      <th>spotify:track:6mCjOSXkABONouTVa6PQOy</th>\n      <td>Tell That Mick He Just Made My List of Things ...</td>\n      <td>51.0</td>\n      <td>0.0</td>\n      <td>0.0</td>\n      <td>AR, AU, AT, BE, BO, BR, BG, CA, CL, CO, CR, CY...</td>\n      <td>1.0</td>\n      <td>1.0</td>\n      <td>17</td>\n      <td>0.000617</td>\n      <td>0.444</td>\n      <td>...</td>\n      <td>0.2020</td>\n      <td>-3.565</td>\n      <td>0.0</td>\n      <td>0.1080</td>\n      <td>197.073</td>\n      <td>4.0</td>\n      <td>0.418</td>\n      <td>210426.5</td>\n      <td>184.0</td>\n      <td>184.0</td>\n    </tr>\n    <tr>\n      <th>spotify:track:6DVdPhPZLyKerEivsLbQHM</th>\n      <td>Free the Madness (feat. Machine Gun Kelly)</td>\n      <td>34.0</td>\n      <td>1.0</td>\n      <td>0.0</td>\n      <td>AR, AT, BE, BO, BR, BG, CA, CL, CO, CR, CY, CZ...</td>\n      <td>1.0</td>\n      <td>7.0</td>\n      <td>17</td>\n      <td>0.007520</td>\n      <td>0.772</td>\n      <td>...</td>\n      <td>0.1440</td>\n      <td>-3.281</td>\n      <td>0.0</td>\n      <td>0.1400</td>\n      <td>133.023</td>\n      <td>4.0</td>\n      <td>0.419</td>\n      <td>259906.5</td>\n      <td>181.0</td>\n      <td>181.0</td>\n    </tr>\n    <tr>\n      <th>spotify:track:7jrsEhPff3epWscTrHQ3Po</th>\n      <td>$tacks of Dreams</td>\n      <td>17.0</td>\n      <td>1.0</td>\n      <td>0.0</td>\n      <td>AR, AU, AT, BE, BO, BR, BG, CA, CL, CO, CR, CY...</td>\n      <td>3.0</td>\n      <td>2.0</td>\n      <td>17</td>\n      <td>0.170000</td>\n      <td>0.692</td>\n      <td>...</td>\n      <td>0.1860</td>\n      <td>-6.794</td>\n      <td>1.0</td>\n      <td>0.1080</td>\n      <td>145.865</td>\n      <td>4.0</td>\n      <td>0.450</td>\n      <td>191582.0</td>\n      <td>184.0</td>\n      <td>184.0</td>\n    </tr>\n    <tr>\n      <th>spotify:track:5imt9MfGljTBou5P9yftRJ</th>\n      <td>Even the Rain</td>\n      <td>15.0</td>\n      <td>0.0</td>\n      <td>0.0</td>\n      <td>CA, US</td>\n      <td>1.0</td>\n      <td>2.0</td>\n      <td>17</td>\n      <td>0.550000</td>\n      <td>0.595</td>\n      <td>...</td>\n      <td>0.2650</td>\n      <td>-7.024</td>\n      <td>1.0</td>\n      <td>0.0292</td>\n      <td>111.982</td>\n      <td>4.0</td>\n      <td>0.463</td>\n      <td>263426.5</td>\n      <td>2.0</td>\n      <td>2.0</td>\n    </tr>\n  </tbody>\n</table>\n<p>10 rows × 23 columns</p>\n</div>"
     },
     "execution_count": 103,
     "metadata": {},
     "output_type": "execute_result"
    }
   ],
   "source": [
    "for index, row in df.iterrows():\n",
    "    df.loc[index, \"number_availabe_markets\"] = len(set(str(row[\"available_markets\"]).replace(\" \", \"\").split(\",\")))\n",
    "df.sample(10)"
   ],
   "metadata": {
    "collapsed": false
   }
  },
  {
   "cell_type": "code",
   "execution_count": 104,
   "outputs": [],
   "source": [
    "del df[\"available_markets\"]"
   ],
   "metadata": {
    "collapsed": false
   }
  },
  {
   "cell_type": "code",
   "execution_count": 105,
   "outputs": [
    {
     "data": {
      "text/plain": "                                                                            name   \nuri                                                                                \nspotify:track:0ltRc18CGfqQXVoh9HmJEU                         There'll Come A Day  \\\nspotify:track:6ZOPMDgEU9gPg0gtlgTc3E                                       Alive   \nspotify:track:28Wu2b54s7TPn0o8xSteeQ  Kill Em With Kindness - Felix Cartal Remix   \nspotify:track:20wgVaEsW9ElKWEZkZYOrm                                      Te Vas   \nspotify:track:4AZlgqkThHYfPSstdVuy2f                             Goin' Back Down   \n\n                                      popularity  explicit  is_local   \nuri                                                                    \nspotify:track:0ltRc18CGfqQXVoh9HmJEU        33.0       0.0       0.0  \\\nspotify:track:6ZOPMDgEU9gPg0gtlgTc3E        17.0       0.0       0.0   \nspotify:track:28Wu2b54s7TPn0o8xSteeQ         0.0       0.0       0.0   \nspotify:track:20wgVaEsW9ElKWEZkZYOrm         0.0       0.0       0.0   \nspotify:track:4AZlgqkThHYfPSstdVuy2f         0.0       0.0       0.0   \n\n                                      disc_number  track_number  language   \nuri                                                                         \nspotify:track:0ltRc18CGfqQXVoh9HmJEU          1.0           5.0        17  \\\nspotify:track:6ZOPMDgEU9gPg0gtlgTc3E          1.0           1.0        17   \nspotify:track:28Wu2b54s7TPn0o8xSteeQ          1.0           1.0        17   \nspotify:track:20wgVaEsW9ElKWEZkZYOrm          1.0          10.0        19   \nspotify:track:4AZlgqkThHYfPSstdVuy2f          1.0           3.0        17   \n\n                                      acousticness  danceability  energy  ...   \nuri                                                                       ...   \nspotify:track:0ltRc18CGfqQXVoh9HmJEU      0.000277         0.356   0.802  ...  \\\nspotify:track:6ZOPMDgEU9gPg0gtlgTc3E      0.204000         0.503   0.830  ...   \nspotify:track:28Wu2b54s7TPn0o8xSteeQ      0.004040         0.679   0.774  ...   \nspotify:track:20wgVaEsW9ElKWEZkZYOrm      0.132000         0.830   0.527  ...   \nspotify:track:4AZlgqkThHYfPSstdVuy2f      0.054200         0.518   0.877  ...   \n\n                                      liveness  loudness  mode  speechiness   \nuri                                                                           \nspotify:track:0ltRc18CGfqQXVoh9HmJEU     0.193    -4.046   1.0       0.0411  \\\nspotify:track:6ZOPMDgEU9gPg0gtlgTc3E     0.168    -4.448   0.0       0.0837   \nspotify:track:28Wu2b54s7TPn0o8xSteeQ     0.253    -2.886   0.0       0.0365   \nspotify:track:20wgVaEsW9ElKWEZkZYOrm     0.175    -7.995   0.0       0.1090   \nspotify:track:4AZlgqkThHYfPSstdVuy2f     0.307    -4.924   0.0       0.1060   \n\n                                        tempo  time_signature  valence   \nuri                                                                      \nspotify:track:0ltRc18CGfqQXVoh9HmJEU  159.017             4.0    0.353  \\\nspotify:track:6ZOPMDgEU9gPg0gtlgTc3E  127.901             4.0    0.221   \nspotify:track:28Wu2b54s7TPn0o8xSteeQ  121.970             4.0    0.503   \nspotify:track:20wgVaEsW9ElKWEZkZYOrm   90.043             4.0    0.492   \nspotify:track:4AZlgqkThHYfPSstdVuy2f  170.211             4.0    0.632   \n\n                                      duration  availabe_markets   \nuri                                                                \nspotify:track:0ltRc18CGfqQXVoh9HmJEU  203213.0             184.0  \\\nspotify:track:6ZOPMDgEU9gPg0gtlgTc3E  193125.0             184.0   \nspotify:track:28Wu2b54s7TPn0o8xSteeQ  196293.0               1.0   \nspotify:track:20wgVaEsW9ElKWEZkZYOrm  169346.5               1.0   \nspotify:track:4AZlgqkThHYfPSstdVuy2f  225740.0               1.0   \n\n                                      number_availabe_markets  \nuri                                                            \nspotify:track:0ltRc18CGfqQXVoh9HmJEU                    184.0  \nspotify:track:6ZOPMDgEU9gPg0gtlgTc3E                    184.0  \nspotify:track:28Wu2b54s7TPn0o8xSteeQ                      1.0  \nspotify:track:20wgVaEsW9ElKWEZkZYOrm                      1.0  \nspotify:track:4AZlgqkThHYfPSstdVuy2f                      1.0  \n\n[5 rows x 22 columns]",
      "text/html": "<div>\n<style scoped>\n    .dataframe tbody tr th:only-of-type {\n        vertical-align: middle;\n    }\n\n    .dataframe tbody tr th {\n        vertical-align: top;\n    }\n\n    .dataframe thead th {\n        text-align: right;\n    }\n</style>\n<table border=\"1\" class=\"dataframe\">\n  <thead>\n    <tr style=\"text-align: right;\">\n      <th></th>\n      <th>name</th>\n      <th>popularity</th>\n      <th>explicit</th>\n      <th>is_local</th>\n      <th>disc_number</th>\n      <th>track_number</th>\n      <th>language</th>\n      <th>acousticness</th>\n      <th>danceability</th>\n      <th>energy</th>\n      <th>...</th>\n      <th>liveness</th>\n      <th>loudness</th>\n      <th>mode</th>\n      <th>speechiness</th>\n      <th>tempo</th>\n      <th>time_signature</th>\n      <th>valence</th>\n      <th>duration</th>\n      <th>availabe_markets</th>\n      <th>number_availabe_markets</th>\n    </tr>\n    <tr>\n      <th>uri</th>\n      <th></th>\n      <th></th>\n      <th></th>\n      <th></th>\n      <th></th>\n      <th></th>\n      <th></th>\n      <th></th>\n      <th></th>\n      <th></th>\n      <th></th>\n      <th></th>\n      <th></th>\n      <th></th>\n      <th></th>\n      <th></th>\n      <th></th>\n      <th></th>\n      <th></th>\n      <th></th>\n      <th></th>\n    </tr>\n  </thead>\n  <tbody>\n    <tr>\n      <th>spotify:track:0ltRc18CGfqQXVoh9HmJEU</th>\n      <td>There'll Come A Day</td>\n      <td>33.0</td>\n      <td>0.0</td>\n      <td>0.0</td>\n      <td>1.0</td>\n      <td>5.0</td>\n      <td>17</td>\n      <td>0.000277</td>\n      <td>0.356</td>\n      <td>0.802</td>\n      <td>...</td>\n      <td>0.193</td>\n      <td>-4.046</td>\n      <td>1.0</td>\n      <td>0.0411</td>\n      <td>159.017</td>\n      <td>4.0</td>\n      <td>0.353</td>\n      <td>203213.0</td>\n      <td>184.0</td>\n      <td>184.0</td>\n    </tr>\n    <tr>\n      <th>spotify:track:6ZOPMDgEU9gPg0gtlgTc3E</th>\n      <td>Alive</td>\n      <td>17.0</td>\n      <td>0.0</td>\n      <td>0.0</td>\n      <td>1.0</td>\n      <td>1.0</td>\n      <td>17</td>\n      <td>0.204000</td>\n      <td>0.503</td>\n      <td>0.830</td>\n      <td>...</td>\n      <td>0.168</td>\n      <td>-4.448</td>\n      <td>0.0</td>\n      <td>0.0837</td>\n      <td>127.901</td>\n      <td>4.0</td>\n      <td>0.221</td>\n      <td>193125.0</td>\n      <td>184.0</td>\n      <td>184.0</td>\n    </tr>\n    <tr>\n      <th>spotify:track:28Wu2b54s7TPn0o8xSteeQ</th>\n      <td>Kill Em With Kindness - Felix Cartal Remix</td>\n      <td>0.0</td>\n      <td>0.0</td>\n      <td>0.0</td>\n      <td>1.0</td>\n      <td>1.0</td>\n      <td>17</td>\n      <td>0.004040</td>\n      <td>0.679</td>\n      <td>0.774</td>\n      <td>...</td>\n      <td>0.253</td>\n      <td>-2.886</td>\n      <td>0.0</td>\n      <td>0.0365</td>\n      <td>121.970</td>\n      <td>4.0</td>\n      <td>0.503</td>\n      <td>196293.0</td>\n      <td>1.0</td>\n      <td>1.0</td>\n    </tr>\n    <tr>\n      <th>spotify:track:20wgVaEsW9ElKWEZkZYOrm</th>\n      <td>Te Vas</td>\n      <td>0.0</td>\n      <td>0.0</td>\n      <td>0.0</td>\n      <td>1.0</td>\n      <td>10.0</td>\n      <td>19</td>\n      <td>0.132000</td>\n      <td>0.830</td>\n      <td>0.527</td>\n      <td>...</td>\n      <td>0.175</td>\n      <td>-7.995</td>\n      <td>0.0</td>\n      <td>0.1090</td>\n      <td>90.043</td>\n      <td>4.0</td>\n      <td>0.492</td>\n      <td>169346.5</td>\n      <td>1.0</td>\n      <td>1.0</td>\n    </tr>\n    <tr>\n      <th>spotify:track:4AZlgqkThHYfPSstdVuy2f</th>\n      <td>Goin' Back Down</td>\n      <td>0.0</td>\n      <td>0.0</td>\n      <td>0.0</td>\n      <td>1.0</td>\n      <td>3.0</td>\n      <td>17</td>\n      <td>0.054200</td>\n      <td>0.518</td>\n      <td>0.877</td>\n      <td>...</td>\n      <td>0.307</td>\n      <td>-4.924</td>\n      <td>0.0</td>\n      <td>0.1060</td>\n      <td>170.211</td>\n      <td>4.0</td>\n      <td>0.632</td>\n      <td>225740.0</td>\n      <td>1.0</td>\n      <td>1.0</td>\n    </tr>\n  </tbody>\n</table>\n<p>5 rows × 22 columns</p>\n</div>"
     },
     "execution_count": 105,
     "metadata": {},
     "output_type": "execute_result"
    }
   ],
   "source": [
    "df.head(5)"
   ],
   "metadata": {
    "collapsed": false
   }
  },
  {
   "cell_type": "markdown",
   "source": [
    "#### In the documentation stands that tracks will be listed seperated for the single and album version even if they are the same\n",
    "The URI is also different if the track is a single or in a different album even though it is the same track"
   ],
   "metadata": {
    "collapsed": false
   }
  },
  {
   "cell_type": "code",
   "execution_count": 117,
   "outputs": [
    {
     "name": "stdout",
     "output_type": "stream",
     "text": [
      "There are 223195 unique names but overall 294932 tracks listed.\n"
     ]
    }
   ],
   "source": [
    "print(f\"There are {df['name'].nunique()} unique names but overall {df.shape[0]} tracks listed.\")"
   ],
   "metadata": {
    "collapsed": false
   }
  },
  {
   "cell_type": "markdown",
   "source": [],
   "metadata": {
    "collapsed": false
   }
  },
  {
   "cell_type": "markdown",
   "source": [
    "#### Handling the unbalance in language (There are some languages in which basically no tracks are written and some in which are many written)"
   ],
   "metadata": {
    "collapsed": false
   }
  },
  {
   "cell_type": "code",
   "execution_count": 108,
   "outputs": [
    {
     "data": {
      "text/plain": "<Figure size 640x480 with 1 Axes>",
      "image/png": "[encoded data removed]"
     },
     "metadata": {},
     "output_type": "display_data"
    }
   ],
   "source": [
    "sns.histplot(df[\"language\"], bins=100)\n",
    "plt.show()"
   ],
   "metadata": {
    "collapsed": false
   }
  },
  {
   "cell_type": "code",
   "execution_count": 115,
   "outputs": [
    {
     "name": "stdout",
     "output_type": "stream",
     "text": [
      "defaultdict(<class 'int'>, {17: 253550, 19: 18021, 44: 274, 3: 2156, 69: 1792, 12: 129, 25: 2854, 97: 1007, 82: 586, 34: 726, 24: 487, 68: 299, 16: 246, 70: 656, 65: 364, 14: 1253, 8: 324, 26: 249, 9: 59, 52: 727, 45: 271, 36: 240, 42: 2132, 54: 59, 0: 166, 57: 91, 11: 67, 39: 286, 41: 123, 88: 368, 23: 270, 56: 103, 37: 79, 38: 121, 49: 570, 71: 200, 46: 100, 48: 148, 20: 77, 64: 492, 55: 40, 18: 113, 72: 134, 13: 531, 99: 69, 93: 79, 15: 32, 4: 9, 73: 66, 31: 112, 7: 98, 1: 68, 94: 10, 81: 57, 27: 73, 74: 36, 83: 56, 78: 128, 98: 76, 29: 122, 60: 136, 87: 11, 40: 35, 10: 49, 89: 18, 77: 104, 66: 36, 96: 17, 28: 68, 92: 74, 33: 56, 2: 57, 61: 60, 84: 15, 32: 41, 30: 60, 50: 24, 43: 50, 53: 60, 21: 75, 76: 53, 85: 19, 79: 16, 90: 58, 5: 5, 35: 10, 86: 3, 22: 13, 75: 18, 80: 8, 6: 29, 51: 5, 59: 1, 91: 1, 62: 1, 63: 1, 95: 5, 47: 2, 67: 3, 58: 4})\n"
     ]
    }
   ],
   "source": [
    "count_languages = defaultdict(int)\n",
    "for index, row in df.iterrows():\n",
    "    count_languages[int(row[\"language\"])] += 1\n",
    "print(count_languages)"
   ],
   "metadata": {
    "collapsed": false
   }
  },
  {
   "cell_type": "markdown",
   "source": [
    "-> 17 was english, which has way more tracks than all the other languages\n",
    "=> Undersampling for 17 and 19, oversampling for some with very low representation"
   ],
   "metadata": {
    "collapsed": false
   }
  },
  {
   "cell_type": "code",
   "execution_count": 111,
   "outputs": [
    {
     "data": {
      "text/plain": "count    294932.000000\nmean         19.094757\nstd          10.186960\nmin           0.000000\n25%          17.000000\n50%          17.000000\n75%          17.000000\nmax          99.000000\nName: language, dtype: float64"
     },
     "execution_count": 111,
     "metadata": {},
     "output_type": "execute_result"
    }
   ],
   "source": [],
   "metadata": {
    "collapsed": false
   }
  },
  {
   "cell_type": "code",
   "execution_count": null,
   "outputs": [],
   "source": [],
   "metadata": {
    "collapsed": false
   }
  }
 ],
 "metadata": {
  "kernelspec": {
   "display_name": "Python 3",
   "language": "python",
   "name": "python3"
  },
  "language_info": {
   "codemirror_mode": {
    "name": "ipython",
    "version": 2
   },
   "file_extension": ".py",
   "mimetype": "text/x-python",
   "name": "python",
   "nbconvert_exporter": "python",
   "pygments_lexer": "ipython2",
   "version": "2.7.6"
  }
 },
 "nbformat": 4,
 "nbformat_minor": 0
}
